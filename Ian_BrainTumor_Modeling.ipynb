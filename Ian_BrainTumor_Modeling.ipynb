{
  "nbformat": 4,
  "nbformat_minor": 0,
  "metadata": {
    "colab": {
      "name": "Ian Final NB.ipynb",
      "provenance": [],
      "collapsed_sections": [],
      "machine_shape": "hm"
    },
    "kernelspec": {
      "name": "python3",
      "display_name": "Python 3"
    },
    "language_info": {
      "name": "python"
    },
    "accelerator": "GPU"
  },
  "cells": [
    {
      "cell_type": "markdown",
      "metadata": {
        "id": "ZPGxGnAb5P3V"
      },
      "source": [
        "## DSC 672 Capstone: Update 3"
      ]
    },
    {
      "cell_type": "markdown",
      "metadata": {
        "id": "DmNCq7uJ5Bs9"
      },
      "source": [
        "## Ian Weimer, Brain Tumor CNN Modeling"
      ]
    },
    {
      "cell_type": "markdown",
      "metadata": {
        "id": "1WkT0bIuJw-l"
      },
      "source": [
        "## Mount to Drive"
      ]
    },
    {
      "cell_type": "code",
      "metadata": {
        "colab": {
          "base_uri": "https://localhost:8080/"
        },
        "id": "PYfT6gh-S_bE",
        "outputId": "4bf944b7-cc7d-4c58-a8d0-0aeed2727f33"
      },
      "source": [
        "from google.colab import drive\n",
        "drive.mount('/content/gdrive')\n",
        "\n",
        "path = '/content/gdrive/MyDrive/Dsc-project/'\n",
        "\n",
        "import sys\n",
        "sys.path.append(path)"
      ],
      "execution_count": null,
      "outputs": [
        {
          "output_type": "stream",
          "text": [
            "Mounted at /content/gdrive\n"
          ],
          "name": "stdout"
        }
      ]
    },
    {
      "cell_type": "markdown",
      "metadata": {
        "id": "55Vm3LLrsqDW"
      },
      "source": [
        "## Adjust Current Directory"
      ]
    },
    {
      "cell_type": "code",
      "metadata": {
        "colab": {
          "base_uri": "https://localhost:8080/"
        },
        "id": "zeK8JeMasyFK",
        "outputId": "cb879cac-7357-4dc8-d5df-d7ab0f3d0811"
      },
      "source": [
        "%cd gdrive/My Drive/'Dsc-project '"
      ],
      "execution_count": null,
      "outputs": [
        {
          "output_type": "stream",
          "text": [
            "/content/gdrive/.shortcut-targets-by-id/1uJz7E2U3Q-UoOS38uopL_P796SlghVKR/Dsc-project\n"
          ],
          "name": "stdout"
        }
      ]
    },
    {
      "cell_type": "markdown",
      "metadata": {
        "id": "Scx71jYSJ2xo"
      },
      "source": [
        "## Access Data"
      ]
    },
    {
      "cell_type": "code",
      "metadata": {
        "colab": {
          "base_uri": "https://localhost:8080/"
        },
        "id": "dS7irbpYT1QF",
        "outputId": "bc4004b2-6bc6-4d65-e38e-fd0e29a6803e"
      },
      "source": [
        "%ls /content/gdrive/MyDrive/Dsc-project/"
      ],
      "execution_count": null,
      "outputs": [
        {
          "output_type": "stream",
          "text": [
            " \u001b[0m\u001b[01;34m1_Proposal\u001b[0m/                          'DSC 672 Project Notes.gdoc'\n",
            " \u001b[01;34m2_Update1\u001b[0m/                            \u001b[01;34mEDA\u001b[0m/\n",
            " \u001b[01;34m3_Update2_Group2\u001b[0m/                    \u001b[01;34m'Image Processing Slides - from IW'\u001b[0m/\n",
            " \u001b[01;34m4_Update3_Group2\u001b[0m/                     \u001b[01;34mModel_sav\u001b[0m/\n",
            " \u001b[01;34m5_DSC672_Project_Submission_Group2\u001b[0m/  'Project Plan.gdoc'\n",
            " \u001b[01;34mData\u001b[0m/                                 \u001b[01;34mSK\u001b[0m/\n",
            " \u001b[01;34mData2\u001b[0m/                                SVM_Model_wProb.sav\n"
          ],
          "name": "stdout"
        }
      ]
    },
    {
      "cell_type": "markdown",
      "metadata": {
        "id": "_pKRG-poJp-5"
      },
      "source": [
        "## Import Packages"
      ]
    },
    {
      "cell_type": "code",
      "metadata": {
        "id": "B4KcttBbT4oo",
        "colab": {
          "base_uri": "https://localhost:8080/"
        },
        "outputId": "324e3c2d-6b05-4a2a-a4d6-84a189beb2cc"
      },
      "source": [
        "from PIL import Image\n",
        "import glob\n",
        "import matplotlib.pyplot as plt\n",
        "import cv2\n",
        "import imutils\n",
        "import numpy as np\n",
        "import time\n",
        "import seaborn as sns\n",
        "import pandas as pd\n",
        "import imageio\n",
        "from sklearn.decomposition import PCA\n",
        "from skimage import data\n",
        "from skimage.color import rgb2gray\n",
        "import keras\n",
        "import tensorflow as tf\n",
        "from keras.models import Sequential \n",
        "from keras.layers import Conv2D, MaxPooling2D, GlobalAveragePooling2D \n",
        "from keras.layers import Dropout\n",
        "from keras.layers.normalization import BatchNormalization\n",
        "from keras.layers import Flatten, Dense\n",
        "from keras.wrappers.scikit_learn import KerasClassifier\n",
        "from keras.optimizers import Adam\n",
        "from sklearn.model_selection import GridSearchCV\n",
        "from keras.constraints import maxnorm\n",
        "from keras.optimizers import SGD\n",
        "from keras import regularizers\n",
        "from keras.layers import Activation\n",
        "from keras.utils import np_utils\n",
        "from keras.preprocessing.image import ImageDataGenerator\n",
        "from keras.callbacks import LearningRateScheduler, ReduceLROnPlateau\n",
        "import os\n",
        "from keras.callbacks import *\n",
        "from keras.optimizers import RMSprop\n",
        "import pathlib\n",
        "from tensorflow.keras.layers.experimental.preprocessing import Rescaling\n",
        "from sklearn.metrics import accuracy_score\n",
        "import itertools\n",
        "print(tf.__version__)  # check the TF version!"
      ],
      "execution_count": null,
      "outputs": [
        {
          "output_type": "stream",
          "text": [
            "2.5.0\n"
          ],
          "name": "stdout"
        }
      ]
    },
    {
      "cell_type": "markdown",
      "metadata": {
        "id": "Uj7IKPWCnnU3"
      },
      "source": [
        "## Load Data"
      ]
    },
    {
      "cell_type": "code",
      "metadata": {
        "colab": {
          "base_uri": "https://localhost:8080/"
        },
        "id": "qeaTe8O-cdCa",
        "outputId": "cdd02846-c2cc-4214-b383-dc619addedf8"
      },
      "source": [
        "# original data loading\n",
        "data_dir = path + 'Data/'\n",
        "data_dir = pathlib.Path(data_dir)\n",
        "image_count = len(list(data_dir.glob('*/*.jpg')))\n",
        "print(\"Image Count: \",image_count)"
      ],
      "execution_count": null,
      "outputs": [
        {
          "output_type": "stream",
          "text": [
            "Image Count:  3000\n"
          ],
          "name": "stdout"
        }
      ]
    },
    {
      "cell_type": "code",
      "metadata": {
        "id": "d5_NyLg1BeSq",
        "colab": {
          "base_uri": "https://localhost:8080/"
        },
        "outputId": "10da4dc5-de9e-4cb2-dca7-b599aff6c99b"
      },
      "source": [
        "# loading pre-split data\n",
        "# Suresh split 70/30 and saved to files in drive\n",
        "train_dir = path + 'SK/train'\n",
        "train_dir = pathlib.Path(train_dir)\n",
        "test_dir = path + 'SK/test'\n",
        "test_dir = pathlib.Path(test_dir)\n",
        "train_count = len(list(train_dir.glob('*/*.jpg')))\n",
        "print(\"Training Image Count: \",train_count)\n",
        "test_count = len(list(test_dir.glob('*/*.jpg')))\n",
        "print(\"Testing Image Count: \",test_count)"
      ],
      "execution_count": null,
      "outputs": [
        {
          "output_type": "stream",
          "text": [
            "Training Image Count:  2100\n",
            "Testing Image Count:  900\n"
          ],
          "name": "stdout"
        }
      ]
    },
    {
      "cell_type": "markdown",
      "metadata": {
        "id": "Vpo5MzyQOdha"
      },
      "source": [
        "## Train / Validation Split"
      ]
    },
    {
      "cell_type": "markdown",
      "metadata": {
        "id": "adVtsjDYageB"
      },
      "source": [
        "For this update, data was pre-split into training and testing data ahead of time, to make consistent for evaluation across all models. Thus, additional splitting is not needed here. The pre-split data is loaded."
      ]
    },
    {
      "cell_type": "code",
      "metadata": {
        "id": "E2EncwRPLWei"
      },
      "source": [
        "batch_size = 32\n",
        "img_height = 200\n",
        "img_width = 200"
      ],
      "execution_count": null,
      "outputs": []
    },
    {
      "cell_type": "code",
      "metadata": {
        "id": "Z3k2Zox3CXMA",
        "colab": {
          "base_uri": "https://localhost:8080/"
        },
        "outputId": "8774d6bb-5ff8-43b9-d9ca-cfc1299e3d2d"
      },
      "source": [
        "train_ds = tf.keras.preprocessing.image_dataset_from_directory(\n",
        "  train_dir,\n",
        "  validation_split=None,\n",
        "  subset=None,\n",
        "  seed=123,\n",
        "  image_size=(img_height, img_width),\n",
        "  batch_size=batch_size)"
      ],
      "execution_count": null,
      "outputs": [
        {
          "output_type": "stream",
          "text": [
            "Found 2100 files belonging to 2 classes.\n"
          ],
          "name": "stdout"
        }
      ]
    },
    {
      "cell_type": "code",
      "metadata": {
        "id": "4nSdkU-BFP7K",
        "colab": {
          "base_uri": "https://localhost:8080/"
        },
        "outputId": "2d206bd6-cc13-478b-bb45-61b393edd438"
      },
      "source": [
        "val_ds = tf.keras.preprocessing.image_dataset_from_directory(\n",
        "  test_dir,\n",
        "  validation_split=None,\n",
        "  subset=None,\n",
        "  seed=123,\n",
        "  image_size=(img_height, img_width),\n",
        "  batch_size=batch_size)"
      ],
      "execution_count": null,
      "outputs": [
        {
          "output_type": "stream",
          "text": [
            "Found 900 files belonging to 2 classes.\n"
          ],
          "name": "stdout"
        }
      ]
    },
    {
      "cell_type": "code",
      "metadata": {
        "id": "32Fy1Z8ye-tQ",
        "colab": {
          "base_uri": "https://localhost:8080/"
        },
        "outputId": "eb0f6753-4929-40b2-b79a-0be17eea8211"
      },
      "source": [
        "class_names = train_ds.class_names\n",
        "print(class_names)"
      ],
      "execution_count": null,
      "outputs": [
        {
          "output_type": "stream",
          "text": [
            "['no', 'yes']\n"
          ],
          "name": "stdout"
        }
      ]
    },
    {
      "cell_type": "markdown",
      "metadata": {
        "id": "LrY2lQ5HqITA"
      },
      "source": [
        "## Preprocessing"
      ]
    },
    {
      "cell_type": "markdown",
      "metadata": {
        "id": "bkoJmNXc15_R"
      },
      "source": [
        "### Normalization"
      ]
    },
    {
      "cell_type": "code",
      "metadata": {
        "id": "5pSDzdIKqMkV"
      },
      "source": [
        "normalization_layer = tf.keras.layers.experimental.preprocessing.Rescaling(1./255)\n",
        "\n",
        "normalized_ds = train_ds.map(lambda x, y: (normalization_layer(x), y))\n",
        "image_batch, labels_batch = next(iter(normalized_ds))"
      ],
      "execution_count": null,
      "outputs": []
    },
    {
      "cell_type": "markdown",
      "metadata": {
        "id": "zND688xH18CP"
      },
      "source": [
        "### Data Augmentation"
      ]
    },
    {
      "cell_type": "code",
      "metadata": {
        "id": "UsWB9uFWqPc6"
      },
      "source": [
        "AUTOTUNE = tf.data.AUTOTUNE\n",
        "\n",
        "train_ds = train_ds.cache().prefetch(buffer_size=AUTOTUNE)\n",
        "val_ds = val_ds.cache().prefetch(buffer_size=AUTOTUNE)"
      ],
      "execution_count": null,
      "outputs": []
    },
    {
      "cell_type": "markdown",
      "metadata": {
        "id": "s-OnewljPyhu"
      },
      "source": [
        "## CNN Model Creation"
      ]
    },
    {
      "cell_type": "code",
      "metadata": {
        "id": "os3on0tNamXD"
      },
      "source": [
        "# Model 1\n",
        "\n",
        "model = Sequential()\n",
        "\n",
        "model.add(Conv2D(32,(5,5), activation = 'relu', padding = 'same',\n",
        "                   strides=(2,2), input_shape = (200,200,1)))\n",
        "model.add(Dropout(0.2))\n",
        "model.add(BatchNormalization())\n",
        "\n",
        "model.add(Conv2D(64,(5,5), activation = 'relu', padding = 'same', strides=(2,2)))\n",
        "model.add(Dropout(0.2))\n",
        "model.add(BatchNormalization())\n",
        "model.add(MaxPooling2D(2))\n",
        "\n",
        "model.add(Conv2D(128,(5,5), activation = 'relu', padding = 'same', strides=(2,2)))\n",
        "model.add(Conv2D(128,(5,5), activation = 'relu', padding = 'same', strides=(2,2)))\n",
        "model.add(Dropout(0.2))\n",
        "model.add(BatchNormalization())\n",
        "\n",
        "model.add(Conv2D(256,(5,5), activation = 'relu', padding = 'same', strides=(2,2)))\n",
        "model.add(MaxPooling2D(2))\n",
        "model.add(Dropout(0.2))\n",
        "model.add(BatchNormalization())\n",
        "\n",
        "model.add(Flatten())\n",
        "\n",
        "model.add(Dense(64, activation = 'relu'))\n",
        "model.add(Dropout(0.4))\n",
        "\n",
        "model.add(Dense(32, activation = 'relu'))\n",
        "model.add(Dropout(0.4))\n",
        "\n",
        "model.add(Dense(2, activation = 'softmax'))"
      ],
      "execution_count": null,
      "outputs": []
    },
    {
      "cell_type": "code",
      "metadata": {
        "id": "CF0DsVGteGYQ"
      },
      "source": [
        "# Model 2\n",
        "\n",
        "reg_p = 1e-4\n",
        "\n",
        "model = Sequential()\n",
        "model.add(tf.keras.layers.experimental.preprocessing.Rescaling(1./255))\n",
        "\n",
        "model.add(Conv2D(32,(5,5), activation = 'relu',\n",
        "                 kernel_regularizer=regularizers.l2(reg_p), padding = 'same',\n",
        "                   strides=(2,2), input_shape = (200,200,1)))\n",
        "\n",
        "# did not see improvment with kernel regularization\n",
        "# did not see improvement with tuning parameters: kernel dim, activation, padding, \n",
        "# strides, etc. vs. default \n",
        "\n",
        "model.add(Dropout(0.2))\n",
        "model.add(BatchNormalization())\n",
        "\n",
        "model.add(Conv2D(64,(5,5), activation = 'relu', \n",
        "                 kernel_regularizer=regularizers.l2(reg_p),\n",
        "                 padding = 'same', strides=(2,2)))\n",
        "model.add(Dropout(0.2))\n",
        "model.add(BatchNormalization())\n",
        "model.add(MaxPooling2D(2))\n",
        "\n",
        "model.add(Conv2D(128,(5,5), activation = 'relu',\n",
        "                 kernel_regularizer=regularizers.l2(reg_p),\n",
        "                 padding = 'same', strides=(2,2)))\n",
        "model.add(Conv2D(128,(5,5), activation = 'relu',\n",
        "                 kernel_regularizer=regularizers.l2(reg_p),\n",
        "                 padding = 'same', strides=(2,2)))\n",
        "model.add(Dropout(0.2))\n",
        "model.add(BatchNormalization())\n",
        "\n",
        "model.add(Conv2D(256,(5,5), activation = 'relu',\n",
        "                 kernel_regularizer=regularizers.l2(reg_p),\n",
        "                 padding = 'same', strides=(2,2)))\n",
        "model.add(Dropout(0.2))\n",
        "model.add(BatchNormalization())\n",
        "model.add(MaxPooling2D(2))\n",
        "\n",
        "model.add(Flatten())\n",
        "\n",
        "model.add(Dense(64, activation = 'relu'))\n",
        "model.add(Dropout(0.4))\n",
        "\n",
        "model.add(Dense(32, activation = 'relu'))\n",
        "model.add(Dropout(0.4))\n",
        "\n",
        "model.add(Dense(2, activation = 'softmax'))"
      ],
      "execution_count": null,
      "outputs": []
    },
    {
      "cell_type": "code",
      "metadata": {
        "id": "6Q3L3daXbfOg"
      },
      "source": [
        "# model 3\n",
        "# dropout and batch normalization actually made results worse on\n",
        "# validation / testing data\n",
        "\n",
        "num_classes=2\n",
        "\n",
        "model = Sequential()\n",
        "model.add(tf.keras.layers.experimental.preprocessing.Rescaling(1./255))\n",
        "model.add(Conv2D(32, 3, activation='relu'))\n",
        "model.add(BatchNormalization())\n",
        "model.add(MaxPooling2D())\n",
        "model.add(Conv2D(64, 3, activation='relu'))\n",
        "model.add(BatchNormalization())\n",
        "model.add(MaxPooling2D())\n",
        "model.add(Conv2D(128, 3, activation='relu'))\n",
        "model.add(BatchNormalization())\n",
        "model.add(MaxPooling2D())\n",
        "model.add(Conv2D(256, 3, activation='relu'))\n",
        "model.add(BatchNormalization())\n",
        "model.add(MaxPooling2D())\n",
        "model.add(Flatten())\n",
        "model.add(Dense(128, activation = 'relu'))\n",
        "model.add(Dense(num_classes))"
      ],
      "execution_count": null,
      "outputs": []
    },
    {
      "cell_type": "code",
      "metadata": {
        "id": "8cLyq5D1xfVi"
      },
      "source": [
        "# model 4\n",
        "\n",
        "num_classes=2\n",
        "\n",
        "model = Sequential()\n",
        "model.add(tf.keras.layers.experimental.preprocessing.Rescaling(1./255))\n",
        "model.add(Conv2D(32, 3, activation='relu'))\n",
        "model.add(MaxPooling2D())\n",
        "model.add(Conv2D(64, 3, activation='relu'))\n",
        "model.add(MaxPooling2D())\n",
        "model.add(Conv2D(128, 3, activation='relu'))\n",
        "model.add(MaxPooling2D())\n",
        "model.add(Conv2D(256, 3, activation='relu'))\n",
        "model.add(MaxPooling2D())\n",
        "model.add(Flatten())\n",
        "model.add(Dense(256, activation = 'relu'))\n",
        "model.add(Dense(num_classes))"
      ],
      "execution_count": null,
      "outputs": []
    },
    {
      "cell_type": "markdown",
      "metadata": {
        "id": "iv-Pj2apqljO"
      },
      "source": [
        "## Compile Model"
      ]
    },
    {
      "cell_type": "code",
      "metadata": {
        "id": "YYa2fjdbuC9R"
      },
      "source": [
        "model.compile(\n",
        "  optimizer='adam', # found adam to be the superior optimizer \n",
        "  loss=tf.losses.SparseCategoricalCrossentropy(from_logits=True),\n",
        "  metrics=['accuracy'])"
      ],
      "execution_count": null,
      "outputs": []
    },
    {
      "cell_type": "markdown",
      "metadata": {
        "id": "gHRQBj1tMfrd"
      },
      "source": [
        "### Learning Rate Optimization"
      ]
    },
    {
      "cell_type": "code",
      "metadata": {
        "id": "MG7v9ArI_EHd"
      },
      "source": [
        "reduce_lr = ReduceLROnPlateau(monitor = 'val_loss',\n",
        "                              factor = 0.2,\n",
        "                              patience = 3,\n",
        "                              min_lr = 1e-5,\n",
        "                              mode = 'min',\n",
        "                              verbose=1)"
      ],
      "execution_count": null,
      "outputs": []
    },
    {
      "cell_type": "markdown",
      "metadata": {
        "id": "Sirf7hQrqpbj"
      },
      "source": [
        "## Fit, Evaluate Model"
      ]
    },
    {
      "cell_type": "code",
      "metadata": {
        "colab": {
          "base_uri": "https://localhost:8080/"
        },
        "id": "xXbtn9oYa920",
        "outputId": "06c16a0b-a4c1-451b-c40c-84c17207f245"
      },
      "source": [
        "history = model.fit(train_ds, validation_data = val_ds, epochs= 15, batch_size = 60, callbacks=[reduce_lr])"
      ],
      "execution_count": null,
      "outputs": [
        {
          "output_type": "stream",
          "text": [
            "Epoch 1/15\n",
            "66/66 [==============================] - 263s 3s/step - loss: 0.5924 - accuracy: 0.6920 - val_loss: 0.4202 - val_accuracy: 0.8078\n",
            "Epoch 2/15\n",
            "66/66 [==============================] - 2s 28ms/step - loss: 0.3410 - accuracy: 0.8622 - val_loss: 0.3336 - val_accuracy: 0.8444\n",
            "Epoch 3/15\n",
            "66/66 [==============================] - 2s 28ms/step - loss: 0.2091 - accuracy: 0.9170 - val_loss: 0.2468 - val_accuracy: 0.8844\n",
            "Epoch 4/15\n",
            "66/66 [==============================] - 2s 28ms/step - loss: 0.1225 - accuracy: 0.9622 - val_loss: 0.1515 - val_accuracy: 0.9544\n",
            "Epoch 5/15\n",
            "66/66 [==============================] - 2s 28ms/step - loss: 0.0741 - accuracy: 0.9799 - val_loss: 0.1338 - val_accuracy: 0.9578\n",
            "Epoch 6/15\n",
            "66/66 [==============================] - 2s 28ms/step - loss: 0.0384 - accuracy: 0.9835 - val_loss: 0.1081 - val_accuracy: 0.9644\n",
            "Epoch 7/15\n",
            "66/66 [==============================] - 2s 28ms/step - loss: 0.0255 - accuracy: 0.9940 - val_loss: 0.2887 - val_accuracy: 0.9300\n",
            "Epoch 8/15\n",
            "66/66 [==============================] - 2s 28ms/step - loss: 0.0709 - accuracy: 0.9762 - val_loss: 0.1850 - val_accuracy: 0.9500\n",
            "Epoch 9/15\n",
            "66/66 [==============================] - 2s 28ms/step - loss: 0.0176 - accuracy: 0.9931 - val_loss: 0.1221 - val_accuracy: 0.9744\n",
            "\n",
            "Epoch 00009: ReduceLROnPlateau reducing learning rate to 0.00020000000949949026.\n",
            "Epoch 10/15\n",
            "66/66 [==============================] - 2s 28ms/step - loss: 0.0078 - accuracy: 0.9987 - val_loss: 0.1259 - val_accuracy: 0.9800\n",
            "Epoch 11/15\n",
            "66/66 [==============================] - 2s 28ms/step - loss: 0.0014 - accuracy: 1.0000 - val_loss: 0.1325 - val_accuracy: 0.9800\n",
            "Epoch 12/15\n",
            "66/66 [==============================] - 2s 28ms/step - loss: 8.6400e-04 - accuracy: 1.0000 - val_loss: 0.1373 - val_accuracy: 0.9800\n",
            "\n",
            "Epoch 00012: ReduceLROnPlateau reducing learning rate to 4.0000001899898055e-05.\n",
            "Epoch 13/15\n",
            "66/66 [==============================] - 2s 28ms/step - loss: 6.2980e-04 - accuracy: 1.0000 - val_loss: 0.1381 - val_accuracy: 0.9800\n",
            "Epoch 14/15\n",
            "66/66 [==============================] - 2s 28ms/step - loss: 5.9291e-04 - accuracy: 1.0000 - val_loss: 0.1390 - val_accuracy: 0.9800\n",
            "Epoch 15/15\n",
            "66/66 [==============================] - 2s 28ms/step - loss: 5.5815e-04 - accuracy: 1.0000 - val_loss: 0.1398 - val_accuracy: 0.9800\n",
            "\n",
            "Epoch 00015: ReduceLROnPlateau reducing learning rate to 1e-05.\n"
          ],
          "name": "stdout"
        }
      ]
    },
    {
      "cell_type": "markdown",
      "metadata": {
        "id": "yaWPY-EEqzuB"
      },
      "source": [
        "### Visualize Results"
      ]
    },
    {
      "cell_type": "code",
      "metadata": {
        "id": "ptKEO-wlKVNp",
        "colab": {
          "base_uri": "https://localhost:8080/",
          "height": 312
        },
        "outputId": "87a7f741-66d1-4582-bb42-9d71b1ad5a41"
      },
      "source": [
        "plt.plot(history.history['loss'], label='training loss') # For TF2\n",
        "plt.plot(history.history['val_loss'], label = 'valid. loss') # For TF2\n",
        "plt.xlabel('Epoch')\n",
        "plt.ylabel('Loss')\n",
        "plt.ylim([0, 1])\n",
        "plt.title('Model Loss')\n",
        "plt.legend(loc='upper right')"
      ],
      "execution_count": null,
      "outputs": [
        {
          "output_type": "execute_result",
          "data": {
            "text/plain": [
              "<matplotlib.legend.Legend at 0x7f2bb01ab450>"
            ]
          },
          "metadata": {
            "tags": []
          },
          "execution_count": 20
        },
        {
          "output_type": "display_data",
          "data": {
            "image/png": "[encoded data removed]",
            "text/plain": [
              "<Figure size 432x288 with 1 Axes>"
            ]
          },
          "metadata": {
            "tags": [],
            "needs_background": "light"
          }
        }
      ]
    },
    {
      "cell_type": "code",
      "metadata": {
        "colab": {
          "base_uri": "https://localhost:8080/",
          "height": 312
        },
        "id": "wZ8d6Feff-ws",
        "outputId": "5cf6e01d-d373-4cf2-8159-28a87ac6dcc0"
      },
      "source": [
        "plt.plot(history.history['accuracy'], label='training accuracy') # For TF2\n",
        "plt.plot(history.history['val_accuracy'], label = 'valid. accuracy') # For TF2\n",
        "plt.xlabel('Epoch')\n",
        "plt.ylabel('Loss')\n",
        "plt.ylim([0.65, 1])\n",
        "plt.title('Model Accuracy')\n",
        "plt.legend(loc='center right')"
      ],
      "execution_count": null,
      "outputs": [
        {
          "output_type": "execute_result",
          "data": {
            "text/plain": [
              "<matplotlib.legend.Legend at 0x7f2b53f8c950>"
            ]
          },
          "metadata": {
            "tags": []
          },
          "execution_count": 21
        },
        {
          "output_type": "display_data",
          "data": {
            "image/png": "[encoded data removed]",
            "text/plain": [
              "<Figure size 432x288 with 1 Axes>"
            ]
          },
          "metadata": {
            "tags": [],
            "needs_background": "light"
          }
        }
      ]
    },
    {
      "cell_type": "code",
      "metadata": {
        "colab": {
          "base_uri": "https://localhost:8080/"
        },
        "id": "2D4aPC-NE-U_",
        "outputId": "4a0f1fd2-c6cc-4638-b968-738ec8e62f82"
      },
      "source": [
        "val_ds = tf.keras.preprocessing.image_dataset_from_directory(\n",
        "  test_dir,\n",
        "  labels='inferred',\n",
        "  label_mode='categorical',\n",
        "  validation_split=None,\n",
        "  subset=None,\n",
        "  seed=123,\n",
        "  image_size=(img_height, img_width),\n",
        "  batch_size=batch_size)"
      ],
      "execution_count": null,
      "outputs": [
        {
          "output_type": "stream",
          "text": [
            "Found 900 files belonging to 2 classes.\n"
          ],
          "name": "stdout"
        }
      ]
    },
    {
      "cell_type": "code",
      "metadata": {
        "id": "nY5eCD06B0bs"
      },
      "source": [
        "predictions = np.array([])\n",
        "labels =  np.array([])\n",
        "for x, y in val_ds:\n",
        "  predictions = np.concatenate([predictions, np.argmax(model.predict(x), axis = -1)])\n",
        "  labels = np.concatenate([labels, np.argmax(y.numpy(), axis=-1)])"
      ],
      "execution_count": null,
      "outputs": []
    },
    {
      "cell_type": "code",
      "metadata": {
        "colab": {
          "base_uri": "https://localhost:8080/"
        },
        "id": "lozUYOSuFOa3",
        "outputId": "647db064-036c-478a-e04e-27879bde1242"
      },
      "source": [
        "accuracy_score(labels, predictions)"
      ],
      "execution_count": null,
      "outputs": [
        {
          "output_type": "execute_result",
          "data": {
            "text/plain": [
              "0.9777777777777777"
            ]
          },
          "metadata": {
            "tags": []
          },
          "execution_count": 24
        }
      ]
    },
    {
      "cell_type": "code",
      "metadata": {
        "colab": {
          "base_uri": "https://localhost:8080/"
        },
        "id": "og1FnaSrFSoX",
        "outputId": "8b5e4f12-1e73-47e2-8da3-53691d97c94c"
      },
      "source": [
        "from sklearn.metrics import confusion_matrix\n",
        "\n",
        "cf = confusion_matrix(labels, predictions)\n",
        "cf"
      ],
      "execution_count": null,
      "outputs": [
        {
          "output_type": "execute_result",
          "data": {
            "text/plain": [
              "array([[431,  12],\n",
              "       [  8, 449]])"
            ]
          },
          "metadata": {
            "tags": []
          },
          "execution_count": 25
        }
      ]
    },
    {
      "cell_type": "code",
      "metadata": {
        "colab": {
          "base_uri": "https://localhost:8080/",
          "height": 295
        },
        "id": "1z1ysCDmFYd8",
        "outputId": "541be913-78a2-4edd-df04-c014199d5e49"
      },
      "source": [
        "plt.imshow(cf,cmap=plt.cm.Blues,interpolation='nearest')\n",
        "plt.colorbar()\n",
        "plt.title('Confusion Matrix')\n",
        "plt.xlabel('Predicted')\n",
        "plt.ylabel('Actual')\n",
        "tick_marks = np.arange(len(set(labels))) # length of classes\n",
        "class_labels = ['0','1']\n",
        "tick_marks\n",
        "plt.xticks(tick_marks,class_labels)\n",
        "plt.yticks(tick_marks,class_labels)\n",
        "# plotting text value inside cells\n",
        "thresh = cf.max() / 2.\n",
        "for i,j in itertools.product(range(cf.shape[0]),range(cf.shape[1])):\n",
        "    plt.text(j,i,format(cf[i,j],'d'),horizontalalignment='center',color='white' if cf[i,j] >thresh else 'black')\n",
        "plt.show();"
      ],
      "execution_count": null,
      "outputs": [
        {
          "output_type": "display_data",
          "data": {
            "image/png": "[encoded data removed]",
            "text/plain": [
              "<Figure size 432x288 with 2 Axes>"
            ]
          },
          "metadata": {
            "tags": [],
            "needs_background": "light"
          }
        }
      ]
    },
    {
      "cell_type": "markdown",
      "metadata": {
        "id": "pOXF-mORkMM5"
      },
      "source": [
        "## Model Summary"
      ]
    },
    {
      "cell_type": "code",
      "metadata": {
        "colab": {
          "base_uri": "https://localhost:8080/"
        },
        "id": "RQkhmLI8kOAh",
        "outputId": "c652e357-704f-4e13-9629-cb6602875866"
      },
      "source": [
        "model.summary()"
      ],
      "execution_count": null,
      "outputs": [
        {
          "output_type": "stream",
          "text": [
            "Model: \"sequential\"\n",
            "_________________________________________________________________\n",
            "Layer (type)                 Output Shape              Param #   \n",
            "=================================================================\n",
            "module_wrapper (ModuleWrappe (None, 200, 200, 3)       0         \n",
            "_________________________________________________________________\n",
            "conv2d (Conv2D)              (None, 198, 198, 32)      896       \n",
            "_________________________________________________________________\n",
            "max_pooling2d (MaxPooling2D) (None, 99, 99, 32)        0         \n",
            "_________________________________________________________________\n",
            "conv2d_1 (Conv2D)            (None, 97, 97, 64)        18496     \n",
            "_________________________________________________________________\n",
            "max_pooling2d_1 (MaxPooling2 (None, 48, 48, 64)        0         \n",
            "_________________________________________________________________\n",
            "conv2d_2 (Conv2D)            (None, 46, 46, 128)       73856     \n",
            "_________________________________________________________________\n",
            "max_pooling2d_2 (MaxPooling2 (None, 23, 23, 128)       0         \n",
            "_________________________________________________________________\n",
            "conv2d_3 (Conv2D)            (None, 21, 21, 256)       295168    \n",
            "_________________________________________________________________\n",
            "max_pooling2d_3 (MaxPooling2 (None, 10, 10, 256)       0         \n",
            "_________________________________________________________________\n",
            "flatten (Flatten)            (None, 25600)             0         \n",
            "_________________________________________________________________\n",
            "dense (Dense)                (None, 256)               6553856   \n",
            "_________________________________________________________________\n",
            "dense_1 (Dense)              (None, 2)                 514       \n",
            "=================================================================\n",
            "Total params: 6,942,786\n",
            "Trainable params: 6,942,786\n",
            "Non-trainable params: 0\n",
            "_________________________________________________________________\n"
          ],
          "name": "stdout"
        }
      ]
    },
    {
      "cell_type": "markdown",
      "metadata": {
        "id": "EVZE0pBITJCI"
      },
      "source": [
        "## Test on Additional Data"
      ]
    },
    {
      "cell_type": "code",
      "metadata": {
        "id": "REJ4Uc04TVQS"
      },
      "source": [
        "# loading additional dataset \n",
        "test2_dir = path + 'Data2/'\n",
        "test2_dir = pathlib.Path(test2_dir)"
      ],
      "execution_count": null,
      "outputs": []
    },
    {
      "cell_type": "code",
      "metadata": {
        "colab": {
          "base_uri": "https://localhost:8080/"
        },
        "id": "GJbOrC9whVGT",
        "outputId": "985ce3d5-408f-43aa-94bc-e6284b1101d4"
      },
      "source": [
        "test_ds = tf.keras.preprocessing.image_dataset_from_directory(\n",
        "  test2_dir,\n",
        "  labels='inferred',\n",
        "  label_mode='categorical',\n",
        "  validation_split=None,\n",
        "  subset=None,\n",
        "  seed=123,\n",
        "  image_size=(img_height, img_width),\n",
        "  batch_size=batch_size)\n",
        "\n",
        "predictions = np.array([])\n",
        "labels =  np.array([])\n",
        "for x, y in test_ds:\n",
        "  predictions = np.concatenate([predictions, np.argmax(model.predict(x), axis = -1)])\n",
        "  labels = np.concatenate([labels, np.argmax(y.numpy(), axis=-1)])"
      ],
      "execution_count": null,
      "outputs": [
        {
          "output_type": "stream",
          "text": [
            "Found 253 files belonging to 2 classes.\n"
          ],
          "name": "stdout"
        }
      ]
    },
    {
      "cell_type": "code",
      "metadata": {
        "colab": {
          "base_uri": "https://localhost:8080/"
        },
        "id": "1pSkOTK3rd37",
        "outputId": "0f8eef76-e2c0-43de-dd61-99620e585605"
      },
      "source": [
        "labels"
      ],
      "execution_count": null,
      "outputs": [
        {
          "output_type": "execute_result",
          "data": {
            "text/plain": [
              "array([0., 1., 1., 1., 1., 0., 0., 1., 1., 1., 1., 0., 1., 0., 0., 0., 1.,\n",
              "       0., 1., 0., 1., 0., 0., 0., 1., 1., 1., 0., 1., 0., 0., 1., 1., 0.,\n",
              "       0., 1., 1., 1., 0., 1., 0., 1., 1., 1., 1., 1., 1., 1., 0., 0., 1.,\n",
              "       1., 0., 0., 0., 1., 0., 0., 1., 1., 1., 1., 1., 1., 1., 0., 1., 1.,\n",
              "       0., 1., 1., 0., 1., 0., 1., 1., 1., 1., 1., 0., 1., 0., 1., 1., 1.,\n",
              "       1., 1., 0., 0., 0., 1., 1., 1., 1., 1., 0., 0., 1., 1., 0., 0., 0.,\n",
              "       1., 0., 1., 0., 1., 0., 1., 1., 1., 1., 1., 0., 1., 0., 1., 0., 0.,\n",
              "       0., 1., 1., 1., 1., 1., 1., 1., 0., 1., 1., 1., 1., 0., 1., 0., 1.,\n",
              "       1., 0., 1., 1., 0., 1., 0., 0., 1., 0., 0., 1., 0., 0., 0., 1., 0.,\n",
              "       1., 1., 0., 0., 1., 0., 1., 1., 1., 1., 0., 1., 0., 1., 0., 1., 1.,\n",
              "       1., 1., 0., 1., 1., 1., 1., 1., 1., 1., 1., 0., 0., 1., 0., 0., 1.,\n",
              "       0., 1., 1., 1., 0., 1., 1., 0., 1., 1., 1., 1., 1., 1., 1., 1., 1.,\n",
              "       0., 1., 1., 0., 1., 0., 1., 0., 0., 0., 1., 1., 0., 1., 1., 0., 0.,\n",
              "       0., 1., 0., 0., 0., 1., 1., 0., 1., 1., 1., 0., 1., 0., 0., 1., 1.,\n",
              "       0., 1., 0., 0., 1., 0., 0., 1., 1., 1., 1., 1., 1., 1., 0.])"
            ]
          },
          "metadata": {
            "tags": []
          },
          "execution_count": 79
        }
      ]
    },
    {
      "cell_type": "code",
      "metadata": {
        "colab": {
          "base_uri": "https://localhost:8080/"
        },
        "id": "RiJSLmrkuJKb",
        "outputId": "e975212d-c493-4909-fd18-a4023064ef0c"
      },
      "source": [
        "predictions"
      ],
      "execution_count": null,
      "outputs": [
        {
          "output_type": "execute_result",
          "data": {
            "text/plain": [
              "array([0., 1., 1., 1., 1., 0., 0., 1., 1., 1., 1., 0., 1., 0., 0., 0., 1.,\n",
              "       0., 1., 0., 1., 0., 0., 0., 1., 1., 1., 0., 1., 0., 0., 1., 1., 0.,\n",
              "       0., 1., 1., 1., 0., 1., 0., 1., 1., 1., 1., 1., 1., 1., 0., 1., 1.,\n",
              "       1., 0., 0., 0., 1., 0., 0., 1., 1., 1., 1., 1., 1., 1., 0., 1., 1.,\n",
              "       0., 1., 1., 0., 1., 0., 1., 1., 1., 1., 1., 1., 1., 0., 1., 1., 1.,\n",
              "       1., 1., 0., 0., 0., 1., 1., 1., 1., 1., 0., 0., 1., 1., 0., 0., 0.,\n",
              "       1., 0., 1., 0., 1., 0., 1., 1., 1., 1., 1., 0., 1., 0., 1., 0., 0.,\n",
              "       0., 1., 1., 1., 1., 1., 1., 1., 0., 1., 1., 1., 1., 0., 1., 0., 1.,\n",
              "       1., 0., 1., 1., 0., 1., 0., 0., 1., 0., 0., 1., 0., 0., 0., 1., 0.,\n",
              "       0., 1., 0., 0., 1., 0., 1., 1., 1., 1., 0., 0., 0., 1., 0., 1., 1.,\n",
              "       1., 1., 0., 1., 1., 1., 1., 1., 1., 1., 1., 0., 0., 0., 0., 0., 1.,\n",
              "       0., 1., 1., 1., 0., 1., 1., 0., 1., 1., 1., 1., 1., 1., 1., 1., 1.,\n",
              "       0., 1., 1., 0., 1., 0., 1., 0., 0., 0., 1., 1., 0., 1., 1., 0., 0.,\n",
              "       0., 1., 0., 0., 0., 1., 1., 0., 1., 1., 1., 0., 1., 0., 0., 1., 1.,\n",
              "       0., 1., 0., 0., 1., 0., 0., 1., 1., 1., 1., 1., 1., 1., 0.])"
            ]
          },
          "metadata": {
            "tags": []
          },
          "execution_count": 80
        }
      ]
    },
    {
      "cell_type": "code",
      "metadata": {
        "colab": {
          "base_uri": "https://localhost:8080/"
        },
        "id": "L8XU7CCzrNQD",
        "outputId": "d7bcb4cb-0179-4ad7-8296-3218dcbcaced"
      },
      "source": [
        "accuracy_score(labels, predictions)"
      ],
      "execution_count": null,
      "outputs": [
        {
          "output_type": "execute_result",
          "data": {
            "text/plain": [
              "0.9802371541501976"
            ]
          },
          "metadata": {
            "tags": []
          },
          "execution_count": 81
        }
      ]
    },
    {
      "cell_type": "code",
      "metadata": {
        "colab": {
          "base_uri": "https://localhost:8080/"
        },
        "id": "G8DLYIk3w5A4",
        "outputId": "d4a07d34-0bb3-4e40-9aee-cf43076c4472"
      },
      "source": [
        "from sklearn.metrics import confusion_matrix\n",
        "\n",
        "cf = confusion_matrix(labels, predictions)\n",
        "cf"
      ],
      "execution_count": null,
      "outputs": [
        {
          "output_type": "execute_result",
          "data": {
            "text/plain": [
              "array([[ 96,   2],\n",
              "       [  3, 152]])"
            ]
          },
          "metadata": {
            "tags": []
          },
          "execution_count": 82
        }
      ]
    },
    {
      "cell_type": "code",
      "metadata": {
        "colab": {
          "base_uri": "https://localhost:8080/",
          "height": 295
        },
        "id": "kHc94GbvxsAg",
        "outputId": "a20c3491-f8f3-4c44-efe8-c78afa0e9e64"
      },
      "source": [
        "plt.imshow(cf,cmap=plt.cm.Blues,interpolation='nearest')\n",
        "plt.colorbar()\n",
        "plt.title('Confusion Matrix')\n",
        "plt.xlabel('Predicted')\n",
        "plt.ylabel('Actual')\n",
        "tick_marks = np.arange(len(set(labels))) # length of classes\n",
        "class_labels = ['0','1']\n",
        "tick_marks\n",
        "plt.xticks(tick_marks,class_labels)\n",
        "plt.yticks(tick_marks,class_labels)\n",
        "# plotting text value inside cells\n",
        "thresh = cf.max() / 2.\n",
        "for i,j in itertools.product(range(cf.shape[0]),range(cf.shape[1])):\n",
        "    plt.text(j,i,format(cf[i,j],'d'),horizontalalignment='center',color='white' if cf[i,j] >thresh else 'black')\n",
        "plt.show();"
      ],
      "execution_count": null,
      "outputs": [
        {
          "output_type": "display_data",
          "data": {
            "image/png": "[encoded data removed]",
            "text/plain": [
              "<Figure size 432x288 with 2 Axes>"
            ]
          },
          "metadata": {
            "tags": [],
            "needs_background": "light"
          }
        }
      ]
    },
    {
      "cell_type": "markdown",
      "metadata": {
        "id": "_vWcH3y33IoI"
      },
      "source": [
        "As seen above, the model did comparably well on the new dataset."
      ]
    },
    {
      "cell_type": "code",
      "metadata": {
        "id": "fEcSjRk_3G51"
      },
      "source": [
        ""
      ],
      "execution_count": null,
      "outputs": []
    }
  ]
}