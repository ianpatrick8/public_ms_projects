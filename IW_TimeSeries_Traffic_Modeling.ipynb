{
  "nbformat": 4,
  "nbformat_minor": 0,
  "metadata": {
    "colab": {
      "name": "Copy of FINAL CSC578 TIME SERIES.ipynb",
      "provenance": [],
      "collapsed_sections": [],
      "toc_visible": true,
      "machine_shape": "hm"
    },
    "kernelspec": {
      "name": "python3",
      "display_name": "Python 3"
    },
    "language_info": {
      "name": "python"
    },
    "accelerator": "GPU"
  },
  "cells": [
    {
      "cell_type": "markdown",
      "metadata": {
        "id": "vmtshalsooNc"
      },
      "source": [
        "## Ian Weimer"
      ]
    },
    {
      "cell_type": "markdown",
      "metadata": {
        "id": "BQGdVFZ6or9V"
      },
      "source": [
        "## Time Series Traffic Volume Prediction"
      ]
    },
    {
      "cell_type": "code",
      "metadata": {
        "id": "4Xnb9ziaahSP"
      },
      "source": [
        "import os\n",
        "import datetime\n",
        "\n",
        "import IPython\n",
        "import IPython.display\n",
        "import matplotlib as mpl\n",
        "import matplotlib.pyplot as plt\n",
        "import numpy as np\n",
        "import pandas as pd\n",
        "import seaborn as sns\n",
        "import tensorflow as tf\n",
        "from sklearn.preprocessing import MinMaxScaler\n",
        "from keras.layers import Input, Dense, LSTM, MaxPooling1D, Conv1D\n",
        "from keras.models import Model\n",
        "from keras.layers import Input, GRU\n",
        "from keras.layers import TimeDistributed\n",
        "from keras.models import Sequential\n",
        "from keras.layers import LSTM\n",
        "from keras.layers import Dense\n",
        "from keras.layers import Flatten\n",
        "from keras.layers import ConvLSTM2D, GlobalMaxPooling1D\n",
        "from keras.layers import Dropout\n",
        "from keras.layers.convolutional import Conv1D\n",
        "from keras.layers.convolutional import MaxPooling1D\n",
        "from keras.callbacks import LearningRateScheduler\n",
        "from keras.layers.normalization import BatchNormalization\n",
        "from keras import regularizers\n",
        "\n",
        "mpl.rcParams['figure.figsize'] = (8, 6)\n",
        "mpl.rcParams['axes.grid'] = False"
      ],
      "execution_count": null,
      "outputs": []
    },
    {
      "cell_type": "code",
      "metadata": {
        "colab": {
          "base_uri": "https://localhost:8080/"
        },
        "id": "HTbcb3t8opmh",
        "outputId": "b92c89ec-f92a-4e4b-f86f-223650df6cad"
      },
      "source": [
        "from google.colab import files\n",
        "from google.colab import drive\n",
        "drive.mount('drive')"
      ],
      "execution_count": null,
      "outputs": [
        {
          "output_type": "stream",
          "text": [
            "Mounted at drive\n"
          ],
          "name": "stdout"
        }
      ]
    },
    {
      "cell_type": "markdown",
      "metadata": {
        "id": "nKutUPDm3QDs"
      },
      "source": [
        "## Loading the Data"
      ]
    },
    {
      "cell_type": "code",
      "metadata": {
        "colab": {
          "base_uri": "https://localhost:8080/",
          "height": 91
        },
        "id": "_xStqH8Danym",
        "outputId": "082fdd24-66e6-4e69-8941-07ddf6f0b038"
      },
      "source": [
        "zip_path = tf.keras.utils.get_file(\n",
        "    origin='https://archive.ics.uci.edu/ml/machine-learning-databases/00492/Metro_Interstate_Traffic_Volume.csv.gz',\n",
        "    fname='Metro_Interstate_Traffic_Volume.csv.gz',\n",
        "    cache_dir='/content', cache_subdir='sample_data')\n",
        "# colab doesn't know how to automatically gunzip a file \n",
        "!gunzip sample_data/Metro_Interstate_Traffic_Volume.csv.gz\n",
        "csv_path, _ = os.path.splitext(zip_path)  # just strip off the .gz\n",
        "csv_path                                  # should be '/content/sample_data/Metro_Interstate_Traffic_Volume.csv'"
      ],
      "execution_count": null,
      "outputs": [
        {
          "output_type": "stream",
          "text": [
            "Downloading data from https://archive.ics.uci.edu/ml/machine-learning-databases/00492/Metro_Interstate_Traffic_Volume.csv.gz\n",
            "409600/405373 [==============================] - 0s 0us/step\n"
          ],
          "name": "stdout"
        },
        {
          "output_type": "execute_result",
          "data": {
            "application/vnd.google.colaboratory.intrinsic+json": {
              "type": "string"
            },
            "text/plain": [
              "'/content/sample_data/Metro_Interstate_Traffic_Volume.csv'"
            ]
          },
          "metadata": {
            "tags": []
          },
          "execution_count": 2
        }
      ]
    },
    {
      "cell_type": "code",
      "metadata": {
        "id": "_PavHvmVawu5"
      },
      "source": [
        "df = pd.read_csv(csv_path)"
      ],
      "execution_count": null,
      "outputs": []
    },
    {
      "cell_type": "markdown",
      "metadata": {
        "id": "9hIlStyt3VI0"
      },
      "source": [
        "## Preprocessing and Exploratory Data Analysis "
      ]
    },
    {
      "cell_type": "code",
      "metadata": {
        "id": "J2P5gxi7a0ft"
      },
      "source": [
        "#date_time = pd.to_datetime(df.pop('date_time'), format='%Y-%m-%d %H:%M:%S')"
      ],
      "execution_count": null,
      "outputs": []
    },
    {
      "cell_type": "code",
      "metadata": {
        "colab": {
          "base_uri": "https://localhost:8080/",
          "height": 549
        },
        "id": "dphVczSca2k-",
        "outputId": "633cda71-9d7a-41b0-f839-585b93c26f5a"
      },
      "source": [
        "df.head(10)"
      ],
      "execution_count": null,
      "outputs": [
        {
          "output_type": "execute_result",
          "data": {
            "text/html": [
              "<div>\n",
              "<style scoped>\n",
              "    .dataframe tbody tr th:only-of-type {\n",
              "        vertical-align: middle;\n",
              "    }\n",
              "\n",
              "    .dataframe tbody tr th {\n",
              "        vertical-align: top;\n",
              "    }\n",
              "\n",
              "    .dataframe thead th {\n",
              "        text-align: right;\n",
              "    }\n",
              "</style>\n",
              "<table border=\"1\" class=\"dataframe\">\n",
              "  <thead>\n",
              "    <tr style=\"text-align: right;\">\n",
              "      <th></th>\n",
              "      <th>holiday</th>\n",
              "      <th>temp</th>\n",
              "      <th>rain_1h</th>\n",
              "      <th>snow_1h</th>\n",
              "      <th>clouds_all</th>\n",
              "      <th>weather_main</th>\n",
              "      <th>weather_description</th>\n",
              "      <th>date_time</th>\n",
              "      <th>traffic_volume</th>\n",
              "    </tr>\n",
              "  </thead>\n",
              "  <tbody>\n",
              "    <tr>\n",
              "      <th>0</th>\n",
              "      <td>None</td>\n",
              "      <td>288.28</td>\n",
              "      <td>0.0</td>\n",
              "      <td>0.0</td>\n",
              "      <td>40</td>\n",
              "      <td>Clouds</td>\n",
              "      <td>scattered clouds</td>\n",
              "      <td>2012-10-02 09:00:00</td>\n",
              "      <td>5545</td>\n",
              "    </tr>\n",
              "    <tr>\n",
              "      <th>1</th>\n",
              "      <td>None</td>\n",
              "      <td>289.36</td>\n",
              "      <td>0.0</td>\n",
              "      <td>0.0</td>\n",
              "      <td>75</td>\n",
              "      <td>Clouds</td>\n",
              "      <td>broken clouds</td>\n",
              "      <td>2012-10-02 10:00:00</td>\n",
              "      <td>4516</td>\n",
              "    </tr>\n",
              "    <tr>\n",
              "      <th>2</th>\n",
              "      <td>None</td>\n",
              "      <td>289.58</td>\n",
              "      <td>0.0</td>\n",
              "      <td>0.0</td>\n",
              "      <td>90</td>\n",
              "      <td>Clouds</td>\n",
              "      <td>overcast clouds</td>\n",
              "      <td>2012-10-02 11:00:00</td>\n",
              "      <td>4767</td>\n",
              "    </tr>\n",
              "    <tr>\n",
              "      <th>3</th>\n",
              "      <td>None</td>\n",
              "      <td>290.13</td>\n",
              "      <td>0.0</td>\n",
              "      <td>0.0</td>\n",
              "      <td>90</td>\n",
              "      <td>Clouds</td>\n",
              "      <td>overcast clouds</td>\n",
              "      <td>2012-10-02 12:00:00</td>\n",
              "      <td>5026</td>\n",
              "    </tr>\n",
              "    <tr>\n",
              "      <th>4</th>\n",
              "      <td>None</td>\n",
              "      <td>291.14</td>\n",
              "      <td>0.0</td>\n",
              "      <td>0.0</td>\n",
              "      <td>75</td>\n",
              "      <td>Clouds</td>\n",
              "      <td>broken clouds</td>\n",
              "      <td>2012-10-02 13:00:00</td>\n",
              "      <td>4918</td>\n",
              "    </tr>\n",
              "    <tr>\n",
              "      <th>5</th>\n",
              "      <td>None</td>\n",
              "      <td>291.72</td>\n",
              "      <td>0.0</td>\n",
              "      <td>0.0</td>\n",
              "      <td>1</td>\n",
              "      <td>Clear</td>\n",
              "      <td>sky is clear</td>\n",
              "      <td>2012-10-02 14:00:00</td>\n",
              "      <td>5181</td>\n",
              "    </tr>\n",
              "    <tr>\n",
              "      <th>6</th>\n",
              "      <td>None</td>\n",
              "      <td>293.17</td>\n",
              "      <td>0.0</td>\n",
              "      <td>0.0</td>\n",
              "      <td>1</td>\n",
              "      <td>Clear</td>\n",
              "      <td>sky is clear</td>\n",
              "      <td>2012-10-02 15:00:00</td>\n",
              "      <td>5584</td>\n",
              "    </tr>\n",
              "    <tr>\n",
              "      <th>7</th>\n",
              "      <td>None</td>\n",
              "      <td>293.86</td>\n",
              "      <td>0.0</td>\n",
              "      <td>0.0</td>\n",
              "      <td>1</td>\n",
              "      <td>Clear</td>\n",
              "      <td>sky is clear</td>\n",
              "      <td>2012-10-02 16:00:00</td>\n",
              "      <td>6015</td>\n",
              "    </tr>\n",
              "    <tr>\n",
              "      <th>8</th>\n",
              "      <td>None</td>\n",
              "      <td>294.14</td>\n",
              "      <td>0.0</td>\n",
              "      <td>0.0</td>\n",
              "      <td>20</td>\n",
              "      <td>Clouds</td>\n",
              "      <td>few clouds</td>\n",
              "      <td>2012-10-02 17:00:00</td>\n",
              "      <td>5791</td>\n",
              "    </tr>\n",
              "    <tr>\n",
              "      <th>9</th>\n",
              "      <td>None</td>\n",
              "      <td>293.10</td>\n",
              "      <td>0.0</td>\n",
              "      <td>0.0</td>\n",
              "      <td>20</td>\n",
              "      <td>Clouds</td>\n",
              "      <td>few clouds</td>\n",
              "      <td>2012-10-02 18:00:00</td>\n",
              "      <td>4770</td>\n",
              "    </tr>\n",
              "  </tbody>\n",
              "</table>\n",
              "</div>"
            ],
            "text/plain": [
              "  holiday    temp  ...            date_time  traffic_volume\n",
              "0    None  288.28  ...  2012-10-02 09:00:00            5545\n",
              "1    None  289.36  ...  2012-10-02 10:00:00            4516\n",
              "2    None  289.58  ...  2012-10-02 11:00:00            4767\n",
              "3    None  290.13  ...  2012-10-02 12:00:00            5026\n",
              "4    None  291.14  ...  2012-10-02 13:00:00            4918\n",
              "5    None  291.72  ...  2012-10-02 14:00:00            5181\n",
              "6    None  293.17  ...  2012-10-02 15:00:00            5584\n",
              "7    None  293.86  ...  2012-10-02 16:00:00            6015\n",
              "8    None  294.14  ...  2012-10-02 17:00:00            5791\n",
              "9    None  293.10  ...  2012-10-02 18:00:00            4770\n",
              "\n",
              "[10 rows x 9 columns]"
            ]
          },
          "metadata": {
            "tags": []
          },
          "execution_count": 108
        }
      ]
    },
    {
      "cell_type": "code",
      "metadata": {
        "id": "Ggta4TwI1vU-"
      },
      "source": [
        "df_c = df.copy()"
      ],
      "execution_count": null,
      "outputs": []
    },
    {
      "cell_type": "code",
      "metadata": {
        "colab": {
          "base_uri": "https://localhost:8080/"
        },
        "id": "F9BIkxH51vkx",
        "outputId": "383eea6e-1409-4d51-fcf9-e270ea45a43f"
      },
      "source": [
        "df_c.shape"
      ],
      "execution_count": null,
      "outputs": [
        {
          "output_type": "execute_result",
          "data": {
            "text/plain": [
              "(48204, 9)"
            ]
          },
          "metadata": {
            "tags": []
          },
          "execution_count": 110
        }
      ]
    },
    {
      "cell_type": "code",
      "metadata": {
        "colab": {
          "base_uri": "https://localhost:8080/"
        },
        "id": "3GI0mhWmB7F_",
        "outputId": "34629350-5e93-4a61-c3b1-a056d38d0529"
      },
      "source": [
        "df_c.nunique()"
      ],
      "execution_count": null,
      "outputs": [
        {
          "output_type": "execute_result",
          "data": {
            "text/plain": [
              "holiday                   12\n",
              "temp                    5843\n",
              "rain_1h                  372\n",
              "snow_1h                   12\n",
              "clouds_all                60\n",
              "weather_main              11\n",
              "weather_description       38\n",
              "date_time              40575\n",
              "traffic_volume          6704\n",
              "dtype: int64"
            ]
          },
          "metadata": {
            "tags": []
          },
          "execution_count": 111
        }
      ]
    },
    {
      "cell_type": "code",
      "metadata": {
        "colab": {
          "base_uri": "https://localhost:8080/"
        },
        "id": "sLvPyzYNhaq3",
        "outputId": "e5c7096b-5e07-439b-a48b-e6fd62f09ed0"
      },
      "source": [
        "df_c.isnull().sum()"
      ],
      "execution_count": null,
      "outputs": [
        {
          "output_type": "execute_result",
          "data": {
            "text/plain": [
              "holiday                0\n",
              "temp                   0\n",
              "rain_1h                0\n",
              "snow_1h                0\n",
              "clouds_all             0\n",
              "weather_main           0\n",
              "weather_description    0\n",
              "date_time              0\n",
              "traffic_volume         0\n",
              "dtype: int64"
            ]
          },
          "metadata": {
            "tags": []
          },
          "execution_count": 112
        }
      ]
    },
    {
      "cell_type": "markdown",
      "metadata": {
        "id": "_AXh9gynhlPW"
      },
      "source": [
        "No missing values. Although, as was pointed out on the Discord, and is revealed above in the nunique() check of the dataset regarding date_time, there are repeated values for date_time, 7629 of them. And there is a range of dates missing from 2014 to 2015, of around a year. These dates appear to have been removed from the dataset. "
      ]
    },
    {
      "cell_type": "markdown",
      "metadata": {
        "id": "Wys8CokxlkAx"
      },
      "source": [
        "### Visualizing Traffic Volume"
      ]
    },
    {
      "cell_type": "code",
      "metadata": {
        "colab": {
          "base_uri": "https://localhost:8080/",
          "height": 281
        },
        "id": "xlLQB1Hs1vpw",
        "outputId": "0996c058-c5e5-42b2-9165-b260d3d2cfcd"
      },
      "source": [
        "ax = sns.scatterplot(data=df_c['traffic_volume'])\n",
        "ax.set_title('Traffic Volume Over Rows of Dataset')\n",
        "plt.show()"
      ],
      "execution_count": null,
      "outputs": [
        {
          "output_type": "display_data",
          "data": {
            "image/png": "[encoded data removed]",
            "text/plain": [
              "<Figure size 432x288 with 1 Axes>"
            ]
          },
          "metadata": {
            "tags": [],
            "needs_background": "light"
          }
        }
      ]
    },
    {
      "cell_type": "code",
      "metadata": {
        "colab": {
          "base_uri": "https://localhost:8080/",
          "height": 282
        },
        "id": "FnnpShvBC6Aj",
        "outputId": "ffdf8b97-5d19-4657-9f7c-a11451a2bdf8"
      },
      "source": [
        "ax = df_c[['traffic_volume']].boxplot()\n",
        "ax.set_title('Traffic Volume Distribution') # in boxplot form\n",
        "plt.show()"
      ],
      "execution_count": null,
      "outputs": [
        {
          "output_type": "display_data",
          "data": {
            "image/png": "[encoded data removed]",
            "text/plain": [
              "<Figure size 432x288 with 1 Axes>"
            ]
          },
          "metadata": {
            "tags": [],
            "needs_background": "light"
          }
        }
      ]
    },
    {
      "cell_type": "code",
      "metadata": {
        "colab": {
          "base_uri": "https://localhost:8080/",
          "height": 296
        },
        "id": "oQV9EtJFftrL",
        "outputId": "f481eb0a-e287-4623-a878-498bb5d308f3"
      },
      "source": [
        "ax = sns.histplot(data=df_c, x=\"traffic_volume\")\n",
        "ax.set_title('Traffic Volume Distribution') # in histogram form\n",
        "plt.show()"
      ],
      "execution_count": null,
      "outputs": [
        {
          "output_type": "display_data",
          "data": {
            "image/png": "[encoded data removed]",
            "text/plain": [
              "<Figure size 432x288 with 1 Axes>"
            ]
          },
          "metadata": {
            "tags": [],
            "needs_background": "light"
          }
        }
      ]
    },
    {
      "cell_type": "markdown",
      "metadata": {
        "id": "WU2m7N12mBc4"
      },
      "source": [
        "### Cleaning up Temp and Rain"
      ]
    },
    {
      "cell_type": "code",
      "metadata": {
        "colab": {
          "base_uri": "https://localhost:8080/",
          "height": 297
        },
        "id": "vekAqE2D1vr3",
        "outputId": "f0b7c28b-f4d3-43f6-85ca-b4908d006788"
      },
      "source": [
        "df_c.describe()"
      ],
      "execution_count": null,
      "outputs": [
        {
          "output_type": "execute_result",
          "data": {
            "text/html": [
              "<div>\n",
              "<style scoped>\n",
              "    .dataframe tbody tr th:only-of-type {\n",
              "        vertical-align: middle;\n",
              "    }\n",
              "\n",
              "    .dataframe tbody tr th {\n",
              "        vertical-align: top;\n",
              "    }\n",
              "\n",
              "    .dataframe thead th {\n",
              "        text-align: right;\n",
              "    }\n",
              "</style>\n",
              "<table border=\"1\" class=\"dataframe\">\n",
              "  <thead>\n",
              "    <tr style=\"text-align: right;\">\n",
              "      <th></th>\n",
              "      <th>temp</th>\n",
              "      <th>rain_1h</th>\n",
              "      <th>snow_1h</th>\n",
              "      <th>clouds_all</th>\n",
              "      <th>traffic_volume</th>\n",
              "    </tr>\n",
              "  </thead>\n",
              "  <tbody>\n",
              "    <tr>\n",
              "      <th>count</th>\n",
              "      <td>48204.000000</td>\n",
              "      <td>48204.000000</td>\n",
              "      <td>48204.000000</td>\n",
              "      <td>48204.000000</td>\n",
              "      <td>48204.000000</td>\n",
              "    </tr>\n",
              "    <tr>\n",
              "      <th>mean</th>\n",
              "      <td>281.205870</td>\n",
              "      <td>0.334264</td>\n",
              "      <td>0.000222</td>\n",
              "      <td>49.362231</td>\n",
              "      <td>3259.818355</td>\n",
              "    </tr>\n",
              "    <tr>\n",
              "      <th>std</th>\n",
              "      <td>13.338232</td>\n",
              "      <td>44.789133</td>\n",
              "      <td>0.008168</td>\n",
              "      <td>39.015750</td>\n",
              "      <td>1986.860670</td>\n",
              "    </tr>\n",
              "    <tr>\n",
              "      <th>min</th>\n",
              "      <td>0.000000</td>\n",
              "      <td>0.000000</td>\n",
              "      <td>0.000000</td>\n",
              "      <td>0.000000</td>\n",
              "      <td>0.000000</td>\n",
              "    </tr>\n",
              "    <tr>\n",
              "      <th>25%</th>\n",
              "      <td>272.160000</td>\n",
              "      <td>0.000000</td>\n",
              "      <td>0.000000</td>\n",
              "      <td>1.000000</td>\n",
              "      <td>1193.000000</td>\n",
              "    </tr>\n",
              "    <tr>\n",
              "      <th>50%</th>\n",
              "      <td>282.450000</td>\n",
              "      <td>0.000000</td>\n",
              "      <td>0.000000</td>\n",
              "      <td>64.000000</td>\n",
              "      <td>3380.000000</td>\n",
              "    </tr>\n",
              "    <tr>\n",
              "      <th>75%</th>\n",
              "      <td>291.806000</td>\n",
              "      <td>0.000000</td>\n",
              "      <td>0.000000</td>\n",
              "      <td>90.000000</td>\n",
              "      <td>4933.000000</td>\n",
              "    </tr>\n",
              "    <tr>\n",
              "      <th>max</th>\n",
              "      <td>310.070000</td>\n",
              "      <td>9831.300000</td>\n",
              "      <td>0.510000</td>\n",
              "      <td>100.000000</td>\n",
              "      <td>7280.000000</td>\n",
              "    </tr>\n",
              "  </tbody>\n",
              "</table>\n",
              "</div>"
            ],
            "text/plain": [
              "               temp       rain_1h       snow_1h    clouds_all  traffic_volume\n",
              "count  48204.000000  48204.000000  48204.000000  48204.000000    48204.000000\n",
              "mean     281.205870      0.334264      0.000222     49.362231     3259.818355\n",
              "std       13.338232     44.789133      0.008168     39.015750     1986.860670\n",
              "min        0.000000      0.000000      0.000000      0.000000        0.000000\n",
              "25%      272.160000      0.000000      0.000000      1.000000     1193.000000\n",
              "50%      282.450000      0.000000      0.000000     64.000000     3380.000000\n",
              "75%      291.806000      0.000000      0.000000     90.000000     4933.000000\n",
              "max      310.070000   9831.300000      0.510000    100.000000     7280.000000"
            ]
          },
          "metadata": {
            "tags": []
          },
          "execution_count": 116
        }
      ]
    },
    {
      "cell_type": "markdown",
      "metadata": {
        "id": "j9aFEL-uisFo"
      },
      "source": [
        "Noticed that Min value for temp did not make sense. And also max value for rain did not make sense."
      ]
    },
    {
      "cell_type": "code",
      "metadata": {
        "colab": {
          "base_uri": "https://localhost:8080/",
          "height": 549
        },
        "id": "veZKtNbp1vxK",
        "outputId": "dcd5ccab-9332-45c8-a2a3-94b142843e6c"
      },
      "source": [
        "# search for unreasonably low temps\n",
        "# temps below 230K (or -46 F)\n",
        "df_c[df_c['temp'] < 230]"
      ],
      "execution_count": null,
      "outputs": [
        {
          "output_type": "execute_result",
          "data": {
            "text/html": [
              "<div>\n",
              "<style scoped>\n",
              "    .dataframe tbody tr th:only-of-type {\n",
              "        vertical-align: middle;\n",
              "    }\n",
              "\n",
              "    .dataframe tbody tr th {\n",
              "        vertical-align: top;\n",
              "    }\n",
              "\n",
              "    .dataframe thead th {\n",
              "        text-align: right;\n",
              "    }\n",
              "</style>\n",
              "<table border=\"1\" class=\"dataframe\">\n",
              "  <thead>\n",
              "    <tr style=\"text-align: right;\">\n",
              "      <th></th>\n",
              "      <th>holiday</th>\n",
              "      <th>temp</th>\n",
              "      <th>rain_1h</th>\n",
              "      <th>snow_1h</th>\n",
              "      <th>clouds_all</th>\n",
              "      <th>weather_main</th>\n",
              "      <th>weather_description</th>\n",
              "      <th>date_time</th>\n",
              "      <th>traffic_volume</th>\n",
              "    </tr>\n",
              "  </thead>\n",
              "  <tbody>\n",
              "    <tr>\n",
              "      <th>11898</th>\n",
              "      <td>None</td>\n",
              "      <td>0.0</td>\n",
              "      <td>0.0</td>\n",
              "      <td>0.0</td>\n",
              "      <td>0</td>\n",
              "      <td>Clear</td>\n",
              "      <td>sky is clear</td>\n",
              "      <td>2014-01-31 03:00:00</td>\n",
              "      <td>361</td>\n",
              "    </tr>\n",
              "    <tr>\n",
              "      <th>11899</th>\n",
              "      <td>None</td>\n",
              "      <td>0.0</td>\n",
              "      <td>0.0</td>\n",
              "      <td>0.0</td>\n",
              "      <td>0</td>\n",
              "      <td>Clear</td>\n",
              "      <td>sky is clear</td>\n",
              "      <td>2014-01-31 04:00:00</td>\n",
              "      <td>734</td>\n",
              "    </tr>\n",
              "    <tr>\n",
              "      <th>11900</th>\n",
              "      <td>None</td>\n",
              "      <td>0.0</td>\n",
              "      <td>0.0</td>\n",
              "      <td>0.0</td>\n",
              "      <td>0</td>\n",
              "      <td>Clear</td>\n",
              "      <td>sky is clear</td>\n",
              "      <td>2014-01-31 05:00:00</td>\n",
              "      <td>2557</td>\n",
              "    </tr>\n",
              "    <tr>\n",
              "      <th>11901</th>\n",
              "      <td>None</td>\n",
              "      <td>0.0</td>\n",
              "      <td>0.0</td>\n",
              "      <td>0.0</td>\n",
              "      <td>0</td>\n",
              "      <td>Clear</td>\n",
              "      <td>sky is clear</td>\n",
              "      <td>2014-01-31 06:00:00</td>\n",
              "      <td>5150</td>\n",
              "    </tr>\n",
              "    <tr>\n",
              "      <th>11946</th>\n",
              "      <td>None</td>\n",
              "      <td>0.0</td>\n",
              "      <td>0.0</td>\n",
              "      <td>0.0</td>\n",
              "      <td>0</td>\n",
              "      <td>Clear</td>\n",
              "      <td>sky is clear</td>\n",
              "      <td>2014-02-02 03:00:00</td>\n",
              "      <td>291</td>\n",
              "    </tr>\n",
              "    <tr>\n",
              "      <th>11947</th>\n",
              "      <td>None</td>\n",
              "      <td>0.0</td>\n",
              "      <td>0.0</td>\n",
              "      <td>0.0</td>\n",
              "      <td>0</td>\n",
              "      <td>Clear</td>\n",
              "      <td>sky is clear</td>\n",
              "      <td>2014-02-02 04:00:00</td>\n",
              "      <td>284</td>\n",
              "    </tr>\n",
              "    <tr>\n",
              "      <th>11948</th>\n",
              "      <td>None</td>\n",
              "      <td>0.0</td>\n",
              "      <td>0.0</td>\n",
              "      <td>0.0</td>\n",
              "      <td>0</td>\n",
              "      <td>Clear</td>\n",
              "      <td>sky is clear</td>\n",
              "      <td>2014-02-02 05:00:00</td>\n",
              "      <td>434</td>\n",
              "    </tr>\n",
              "    <tr>\n",
              "      <th>11949</th>\n",
              "      <td>None</td>\n",
              "      <td>0.0</td>\n",
              "      <td>0.0</td>\n",
              "      <td>0.0</td>\n",
              "      <td>0</td>\n",
              "      <td>Clear</td>\n",
              "      <td>sky is clear</td>\n",
              "      <td>2014-02-02 06:00:00</td>\n",
              "      <td>739</td>\n",
              "    </tr>\n",
              "    <tr>\n",
              "      <th>11950</th>\n",
              "      <td>None</td>\n",
              "      <td>0.0</td>\n",
              "      <td>0.0</td>\n",
              "      <td>0.0</td>\n",
              "      <td>0</td>\n",
              "      <td>Clear</td>\n",
              "      <td>sky is clear</td>\n",
              "      <td>2014-02-02 07:00:00</td>\n",
              "      <td>962</td>\n",
              "    </tr>\n",
              "    <tr>\n",
              "      <th>11951</th>\n",
              "      <td>None</td>\n",
              "      <td>0.0</td>\n",
              "      <td>0.0</td>\n",
              "      <td>0.0</td>\n",
              "      <td>0</td>\n",
              "      <td>Clear</td>\n",
              "      <td>sky is clear</td>\n",
              "      <td>2014-02-02 08:00:00</td>\n",
              "      <td>1670</td>\n",
              "    </tr>\n",
              "  </tbody>\n",
              "</table>\n",
              "</div>"
            ],
            "text/plain": [
              "      holiday  temp  ...            date_time  traffic_volume\n",
              "11898    None   0.0  ...  2014-01-31 03:00:00             361\n",
              "11899    None   0.0  ...  2014-01-31 04:00:00             734\n",
              "11900    None   0.0  ...  2014-01-31 05:00:00            2557\n",
              "11901    None   0.0  ...  2014-01-31 06:00:00            5150\n",
              "11946    None   0.0  ...  2014-02-02 03:00:00             291\n",
              "11947    None   0.0  ...  2014-02-02 04:00:00             284\n",
              "11948    None   0.0  ...  2014-02-02 05:00:00             434\n",
              "11949    None   0.0  ...  2014-02-02 06:00:00             739\n",
              "11950    None   0.0  ...  2014-02-02 07:00:00             962\n",
              "11951    None   0.0  ...  2014-02-02 08:00:00            1670\n",
              "\n",
              "[10 rows x 9 columns]"
            ]
          },
          "metadata": {
            "tags": []
          },
          "execution_count": 117
        }
      ]
    },
    {
      "cell_type": "markdown",
      "metadata": {
        "id": "gG_cZehmjVly"
      },
      "source": [
        "I looked at values around these time/date ranges, and it was clear that these were mistakes, as the values hours apart from them were normal. To fix this problem, will impute the values from time just hours apart."
      ]
    },
    {
      "cell_type": "code",
      "metadata": {
        "id": "ydWM9QGH1v2f"
      },
      "source": [
        "dates = ['2014-01-31 03:00:00','2014-01-31 04:00:00','2014-01-31 05:00:00','2014-01-31 06:00:00']"
      ],
      "execution_count": null,
      "outputs": []
    },
    {
      "cell_type": "code",
      "metadata": {
        "colab": {
          "base_uri": "https://localhost:8080/"
        },
        "id": "9-OF-OEz1v8d",
        "outputId": "e442bb2c-2bbb-4b8d-f9a8-0767eb608454"
      },
      "source": [
        "df_c['temp'][df_c['date_time'] == '2014-01-31 02:00:00'].values"
      ],
      "execution_count": null,
      "outputs": [
        {
          "output_type": "execute_result",
          "data": {
            "text/plain": [
              "array([255.93])"
            ]
          },
          "metadata": {
            "tags": []
          },
          "execution_count": 119
        }
      ]
    },
    {
      "cell_type": "code",
      "metadata": {
        "colab": {
          "base_uri": "https://localhost:8080/"
        },
        "id": "LaM9oDEO1wCN",
        "outputId": "461f45f5-3044-4bf2-d5f6-4dcf2439bf26"
      },
      "source": [
        "# Using the temp value an hr before to impute for the outlier temp\n",
        "\n",
        "for date in dates:\n",
        "    df_c['temp'][df_c['date_time'] == date] = df_c['temp'][df_c['date_time'] == '2014-01-31 02:00:00'].values"
      ],
      "execution_count": null,
      "outputs": [
        {
          "output_type": "stream",
          "text": [
            "/usr/local/lib/python3.7/dist-packages/ipykernel_launcher.py:4: SettingWithCopyWarning: \n",
            "A value is trying to be set on a copy of a slice from a DataFrame\n",
            "\n",
            "See the caveats in the documentation: https://pandas.pydata.org/pandas-docs/stable/user_guide/indexing.html#returning-a-view-versus-a-copy\n",
            "  after removing the cwd from sys.path.\n"
          ],
          "name": "stderr"
        }
      ]
    },
    {
      "cell_type": "code",
      "metadata": {
        "id": "d_JsxCRl1wNm"
      },
      "source": [
        "dates_1 = ['2014-02-02 03:00:00','2014-02-02 04:00:00','2014-02-02 05:00:00','2014-02-02 06:00:00','2014-02-02 07:00:00','2014-02-02 08:00:00']"
      ],
      "execution_count": null,
      "outputs": []
    },
    {
      "cell_type": "code",
      "metadata": {
        "colab": {
          "base_uri": "https://localhost:8080/"
        },
        "id": "qv5G1hGf1wS4",
        "outputId": "71309350-c9c5-4953-8836-71de84d3f26a"
      },
      "source": [
        "df_c['temp'][df_c['date_time'] == '2014-02-02 02:00:00']"
      ],
      "execution_count": null,
      "outputs": [
        {
          "output_type": "execute_result",
          "data": {
            "text/plain": [
              "11945    255.37\n",
              "Name: temp, dtype: float64"
            ]
          },
          "metadata": {
            "tags": []
          },
          "execution_count": 122
        }
      ]
    },
    {
      "cell_type": "code",
      "metadata": {
        "colab": {
          "base_uri": "https://localhost:8080/"
        },
        "id": "ccsuh5XB1wY9",
        "outputId": "ff2a7f0d-a395-463a-de81-690a362516fc"
      },
      "source": [
        "# Using the temp value an hr before to impute for the outlier temp\n",
        "\n",
        "for date in dates_1:\n",
        "    df_c['temp'][df_c['date_time'] == date] = df_c['temp'][df_c['date_time'] == '2014-02-02 02:00:00'].values"
      ],
      "execution_count": null,
      "outputs": [
        {
          "output_type": "stream",
          "text": [
            "/usr/local/lib/python3.7/dist-packages/ipykernel_launcher.py:4: SettingWithCopyWarning: \n",
            "A value is trying to be set on a copy of a slice from a DataFrame\n",
            "\n",
            "See the caveats in the documentation: https://pandas.pydata.org/pandas-docs/stable/user_guide/indexing.html#returning-a-view-versus-a-copy\n",
            "  after removing the cwd from sys.path.\n"
          ],
          "name": "stderr"
        }
      ]
    },
    {
      "cell_type": "code",
      "metadata": {
        "colab": {
          "base_uri": "https://localhost:8080/",
          "height": 297
        },
        "id": "4BjHVXF01wfZ",
        "outputId": "40c9eab8-fa7e-4090-e818-eda7301c2a3f"
      },
      "source": [
        "df_c.describe()"
      ],
      "execution_count": null,
      "outputs": [
        {
          "output_type": "execute_result",
          "data": {
            "text/html": [
              "<div>\n",
              "<style scoped>\n",
              "    .dataframe tbody tr th:only-of-type {\n",
              "        vertical-align: middle;\n",
              "    }\n",
              "\n",
              "    .dataframe tbody tr th {\n",
              "        vertical-align: top;\n",
              "    }\n",
              "\n",
              "    .dataframe thead th {\n",
              "        text-align: right;\n",
              "    }\n",
              "</style>\n",
              "<table border=\"1\" class=\"dataframe\">\n",
              "  <thead>\n",
              "    <tr style=\"text-align: right;\">\n",
              "      <th></th>\n",
              "      <th>temp</th>\n",
              "      <th>rain_1h</th>\n",
              "      <th>snow_1h</th>\n",
              "      <th>clouds_all</th>\n",
              "      <th>traffic_volume</th>\n",
              "    </tr>\n",
              "  </thead>\n",
              "  <tbody>\n",
              "    <tr>\n",
              "      <th>count</th>\n",
              "      <td>48204.000000</td>\n",
              "      <td>48204.000000</td>\n",
              "      <td>48204.000000</td>\n",
              "      <td>48204.000000</td>\n",
              "      <td>48204.000000</td>\n",
              "    </tr>\n",
              "    <tr>\n",
              "      <th>mean</th>\n",
              "      <td>281.258894</td>\n",
              "      <td>0.334264</td>\n",
              "      <td>0.000222</td>\n",
              "      <td>49.362231</td>\n",
              "      <td>3259.818355</td>\n",
              "    </tr>\n",
              "    <tr>\n",
              "      <th>std</th>\n",
              "      <td>12.713645</td>\n",
              "      <td>44.789133</td>\n",
              "      <td>0.008168</td>\n",
              "      <td>39.015750</td>\n",
              "      <td>1986.860670</td>\n",
              "    </tr>\n",
              "    <tr>\n",
              "      <th>min</th>\n",
              "      <td>243.390000</td>\n",
              "      <td>0.000000</td>\n",
              "      <td>0.000000</td>\n",
              "      <td>0.000000</td>\n",
              "      <td>0.000000</td>\n",
              "    </tr>\n",
              "    <tr>\n",
              "      <th>25%</th>\n",
              "      <td>272.160000</td>\n",
              "      <td>0.000000</td>\n",
              "      <td>0.000000</td>\n",
              "      <td>1.000000</td>\n",
              "      <td>1193.000000</td>\n",
              "    </tr>\n",
              "    <tr>\n",
              "      <th>50%</th>\n",
              "      <td>282.450000</td>\n",
              "      <td>0.000000</td>\n",
              "      <td>0.000000</td>\n",
              "      <td>64.000000</td>\n",
              "      <td>3380.000000</td>\n",
              "    </tr>\n",
              "    <tr>\n",
              "      <th>75%</th>\n",
              "      <td>291.806000</td>\n",
              "      <td>0.000000</td>\n",
              "      <td>0.000000</td>\n",
              "      <td>90.000000</td>\n",
              "      <td>4933.000000</td>\n",
              "    </tr>\n",
              "    <tr>\n",
              "      <th>max</th>\n",
              "      <td>310.070000</td>\n",
              "      <td>9831.300000</td>\n",
              "      <td>0.510000</td>\n",
              "      <td>100.000000</td>\n",
              "      <td>7280.000000</td>\n",
              "    </tr>\n",
              "  </tbody>\n",
              "</table>\n",
              "</div>"
            ],
            "text/plain": [
              "               temp       rain_1h       snow_1h    clouds_all  traffic_volume\n",
              "count  48204.000000  48204.000000  48204.000000  48204.000000    48204.000000\n",
              "mean     281.258894      0.334264      0.000222     49.362231     3259.818355\n",
              "std       12.713645     44.789133      0.008168     39.015750     1986.860670\n",
              "min      243.390000      0.000000      0.000000      0.000000        0.000000\n",
              "25%      272.160000      0.000000      0.000000      1.000000     1193.000000\n",
              "50%      282.450000      0.000000      0.000000     64.000000     3380.000000\n",
              "75%      291.806000      0.000000      0.000000     90.000000     4933.000000\n",
              "max      310.070000   9831.300000      0.510000    100.000000     7280.000000"
            ]
          },
          "metadata": {
            "tags": []
          },
          "execution_count": 124
        }
      ]
    },
    {
      "cell_type": "markdown",
      "metadata": {
        "id": "-Md58fQikRFO"
      },
      "source": [
        "Now temp is in a normal range. "
      ]
    },
    {
      "cell_type": "code",
      "metadata": {
        "colab": {
          "base_uri": "https://localhost:8080/",
          "height": 165
        },
        "id": "6A8PUMQ-1wmH",
        "outputId": "4315ffc6-6d23-495d-ef48-c329a49db473"
      },
      "source": [
        "df_c[df_c['rain_1h'] > 50]"
      ],
      "execution_count": null,
      "outputs": [
        {
          "output_type": "execute_result",
          "data": {
            "text/html": [
              "<div>\n",
              "<style scoped>\n",
              "    .dataframe tbody tr th:only-of-type {\n",
              "        vertical-align: middle;\n",
              "    }\n",
              "\n",
              "    .dataframe tbody tr th {\n",
              "        vertical-align: top;\n",
              "    }\n",
              "\n",
              "    .dataframe thead th {\n",
              "        text-align: right;\n",
              "    }\n",
              "</style>\n",
              "<table border=\"1\" class=\"dataframe\">\n",
              "  <thead>\n",
              "    <tr style=\"text-align: right;\">\n",
              "      <th></th>\n",
              "      <th>holiday</th>\n",
              "      <th>temp</th>\n",
              "      <th>rain_1h</th>\n",
              "      <th>snow_1h</th>\n",
              "      <th>clouds_all</th>\n",
              "      <th>weather_main</th>\n",
              "      <th>weather_description</th>\n",
              "      <th>date_time</th>\n",
              "      <th>traffic_volume</th>\n",
              "    </tr>\n",
              "  </thead>\n",
              "  <tbody>\n",
              "    <tr>\n",
              "      <th>8247</th>\n",
              "      <td>None</td>\n",
              "      <td>289.10</td>\n",
              "      <td>55.63</td>\n",
              "      <td>0.0</td>\n",
              "      <td>68</td>\n",
              "      <td>Rain</td>\n",
              "      <td>very heavy rain</td>\n",
              "      <td>2013-08-07 02:00:00</td>\n",
              "      <td>315</td>\n",
              "    </tr>\n",
              "    <tr>\n",
              "      <th>24872</th>\n",
              "      <td>None</td>\n",
              "      <td>302.11</td>\n",
              "      <td>9831.30</td>\n",
              "      <td>0.0</td>\n",
              "      <td>75</td>\n",
              "      <td>Rain</td>\n",
              "      <td>very heavy rain</td>\n",
              "      <td>2016-07-11 17:00:00</td>\n",
              "      <td>5535</td>\n",
              "    </tr>\n",
              "  </tbody>\n",
              "</table>\n",
              "</div>"
            ],
            "text/plain": [
              "      holiday    temp  ...            date_time  traffic_volume\n",
              "8247     None  289.10  ...  2013-08-07 02:00:00             315\n",
              "24872    None  302.11  ...  2016-07-11 17:00:00            5535\n",
              "\n",
              "[2 rows x 9 columns]"
            ]
          },
          "metadata": {
            "tags": []
          },
          "execution_count": 125
        }
      ]
    },
    {
      "cell_type": "markdown",
      "metadata": {
        "id": "l0efeLpHkWMj"
      },
      "source": [
        "Look at rain values greater than 50 mm/hr."
      ]
    },
    {
      "cell_type": "code",
      "metadata": {
        "colab": {
          "base_uri": "https://localhost:8080/",
          "height": 645
        },
        "id": "y-AsJyZX94mI",
        "outputId": "e8f5129e-b636-4df8-bc6c-1e1b07c09552"
      },
      "source": [
        "df_c[24866:24878]"
      ],
      "execution_count": null,
      "outputs": [
        {
          "output_type": "execute_result",
          "data": {
            "text/html": [
              "<div>\n",
              "<style scoped>\n",
              "    .dataframe tbody tr th:only-of-type {\n",
              "        vertical-align: middle;\n",
              "    }\n",
              "\n",
              "    .dataframe tbody tr th {\n",
              "        vertical-align: top;\n",
              "    }\n",
              "\n",
              "    .dataframe thead th {\n",
              "        text-align: right;\n",
              "    }\n",
              "</style>\n",
              "<table border=\"1\" class=\"dataframe\">\n",
              "  <thead>\n",
              "    <tr style=\"text-align: right;\">\n",
              "      <th></th>\n",
              "      <th>holiday</th>\n",
              "      <th>temp</th>\n",
              "      <th>rain_1h</th>\n",
              "      <th>snow_1h</th>\n",
              "      <th>clouds_all</th>\n",
              "      <th>weather_main</th>\n",
              "      <th>weather_description</th>\n",
              "      <th>date_time</th>\n",
              "      <th>traffic_volume</th>\n",
              "    </tr>\n",
              "  </thead>\n",
              "  <tbody>\n",
              "    <tr>\n",
              "      <th>24866</th>\n",
              "      <td>None</td>\n",
              "      <td>296.45</td>\n",
              "      <td>0.00</td>\n",
              "      <td>0.0</td>\n",
              "      <td>90</td>\n",
              "      <td>Thunderstorm</td>\n",
              "      <td>proximity thunderstorm</td>\n",
              "      <td>2016-07-11 11:00:00</td>\n",
              "      <td>3998</td>\n",
              "    </tr>\n",
              "    <tr>\n",
              "      <th>24867</th>\n",
              "      <td>None</td>\n",
              "      <td>297.73</td>\n",
              "      <td>0.00</td>\n",
              "      <td>0.0</td>\n",
              "      <td>90</td>\n",
              "      <td>Rain</td>\n",
              "      <td>light rain</td>\n",
              "      <td>2016-07-11 12:00:00</td>\n",
              "      <td>4273</td>\n",
              "    </tr>\n",
              "    <tr>\n",
              "      <th>24868</th>\n",
              "      <td>None</td>\n",
              "      <td>299.15</td>\n",
              "      <td>0.00</td>\n",
              "      <td>0.0</td>\n",
              "      <td>75</td>\n",
              "      <td>Thunderstorm</td>\n",
              "      <td>proximity thunderstorm</td>\n",
              "      <td>2016-07-11 13:00:00</td>\n",
              "      <td>4475</td>\n",
              "    </tr>\n",
              "    <tr>\n",
              "      <th>24869</th>\n",
              "      <td>None</td>\n",
              "      <td>300.18</td>\n",
              "      <td>0.00</td>\n",
              "      <td>0.0</td>\n",
              "      <td>90</td>\n",
              "      <td>Clouds</td>\n",
              "      <td>overcast clouds</td>\n",
              "      <td>2016-07-11 14:00:00</td>\n",
              "      <td>4456</td>\n",
              "    </tr>\n",
              "    <tr>\n",
              "      <th>24870</th>\n",
              "      <td>None</td>\n",
              "      <td>300.81</td>\n",
              "      <td>0.00</td>\n",
              "      <td>0.0</td>\n",
              "      <td>75</td>\n",
              "      <td>Thunderstorm</td>\n",
              "      <td>proximity thunderstorm</td>\n",
              "      <td>2016-07-11 15:00:00</td>\n",
              "      <td>4858</td>\n",
              "    </tr>\n",
              "    <tr>\n",
              "      <th>24871</th>\n",
              "      <td>None</td>\n",
              "      <td>301.48</td>\n",
              "      <td>0.00</td>\n",
              "      <td>0.0</td>\n",
              "      <td>75</td>\n",
              "      <td>Thunderstorm</td>\n",
              "      <td>proximity thunderstorm</td>\n",
              "      <td>2016-07-11 16:00:00</td>\n",
              "      <td>5934</td>\n",
              "    </tr>\n",
              "    <tr>\n",
              "      <th>24872</th>\n",
              "      <td>None</td>\n",
              "      <td>302.11</td>\n",
              "      <td>9831.30</td>\n",
              "      <td>0.0</td>\n",
              "      <td>75</td>\n",
              "      <td>Rain</td>\n",
              "      <td>very heavy rain</td>\n",
              "      <td>2016-07-11 17:00:00</td>\n",
              "      <td>5535</td>\n",
              "    </tr>\n",
              "    <tr>\n",
              "      <th>24873</th>\n",
              "      <td>None</td>\n",
              "      <td>302.54</td>\n",
              "      <td>0.00</td>\n",
              "      <td>0.0</td>\n",
              "      <td>75</td>\n",
              "      <td>Thunderstorm</td>\n",
              "      <td>proximity thunderstorm</td>\n",
              "      <td>2016-07-11 18:00:00</td>\n",
              "      <td>3900</td>\n",
              "    </tr>\n",
              "    <tr>\n",
              "      <th>24874</th>\n",
              "      <td>None</td>\n",
              "      <td>302.39</td>\n",
              "      <td>0.00</td>\n",
              "      <td>0.0</td>\n",
              "      <td>75</td>\n",
              "      <td>Clouds</td>\n",
              "      <td>broken clouds</td>\n",
              "      <td>2016-07-11 19:00:00</td>\n",
              "      <td>2856</td>\n",
              "    </tr>\n",
              "    <tr>\n",
              "      <th>24875</th>\n",
              "      <td>None</td>\n",
              "      <td>302.45</td>\n",
              "      <td>0.00</td>\n",
              "      <td>0.0</td>\n",
              "      <td>75</td>\n",
              "      <td>Thunderstorm</td>\n",
              "      <td>thunderstorm</td>\n",
              "      <td>2016-07-11 20:00:00</td>\n",
              "      <td>2506</td>\n",
              "    </tr>\n",
              "    <tr>\n",
              "      <th>24876</th>\n",
              "      <td>None</td>\n",
              "      <td>301.70</td>\n",
              "      <td>0.00</td>\n",
              "      <td>0.0</td>\n",
              "      <td>75</td>\n",
              "      <td>Thunderstorm</td>\n",
              "      <td>thunderstorm with light rain</td>\n",
              "      <td>2016-07-11 21:00:00</td>\n",
              "      <td>2062</td>\n",
              "    </tr>\n",
              "    <tr>\n",
              "      <th>24877</th>\n",
              "      <td>None</td>\n",
              "      <td>300.35</td>\n",
              "      <td>0.51</td>\n",
              "      <td>0.0</td>\n",
              "      <td>75</td>\n",
              "      <td>Rain</td>\n",
              "      <td>light rain</td>\n",
              "      <td>2016-07-11 22:00:00</td>\n",
              "      <td>1544</td>\n",
              "    </tr>\n",
              "  </tbody>\n",
              "</table>\n",
              "</div>"
            ],
            "text/plain": [
              "      holiday    temp  ...            date_time  traffic_volume\n",
              "24866    None  296.45  ...  2016-07-11 11:00:00            3998\n",
              "24867    None  297.73  ...  2016-07-11 12:00:00            4273\n",
              "24868    None  299.15  ...  2016-07-11 13:00:00            4475\n",
              "24869    None  300.18  ...  2016-07-11 14:00:00            4456\n",
              "24870    None  300.81  ...  2016-07-11 15:00:00            4858\n",
              "24871    None  301.48  ...  2016-07-11 16:00:00            5934\n",
              "24872    None  302.11  ...  2016-07-11 17:00:00            5535\n",
              "24873    None  302.54  ...  2016-07-11 18:00:00            3900\n",
              "24874    None  302.39  ...  2016-07-11 19:00:00            2856\n",
              "24875    None  302.45  ...  2016-07-11 20:00:00            2506\n",
              "24876    None  301.70  ...  2016-07-11 21:00:00            2062\n",
              "24877    None  300.35  ...  2016-07-11 22:00:00            1544\n",
              "\n",
              "[12 rows x 9 columns]"
            ]
          },
          "metadata": {
            "tags": []
          },
          "execution_count": 126
        }
      ]
    },
    {
      "cell_type": "markdown",
      "metadata": {
        "id": "FLQgFkT4kjn1"
      },
      "source": [
        "We see that this is clearly an outlier."
      ]
    },
    {
      "cell_type": "code",
      "metadata": {
        "colab": {
          "base_uri": "https://localhost:8080/"
        },
        "id": "uYAZnBUj94sa",
        "outputId": "e951d424-5cbf-477b-8ecb-0e40417eb488"
      },
      "source": [
        "# Could be possible that there was still heavy rainfall\n",
        "# I set to value slightly higher than second highest 1 hr rainfall total\n",
        "\n",
        "df_c['rain_1h'][df_c['date_time'] == '2016-07-11 17:00:00'] = 55.8"
      ],
      "execution_count": null,
      "outputs": [
        {
          "output_type": "stream",
          "text": [
            "/usr/local/lib/python3.7/dist-packages/ipykernel_launcher.py:4: SettingWithCopyWarning: \n",
            "A value is trying to be set on a copy of a slice from a DataFrame\n",
            "\n",
            "See the caveats in the documentation: https://pandas.pydata.org/pandas-docs/stable/user_guide/indexing.html#returning-a-view-versus-a-copy\n",
            "  after removing the cwd from sys.path.\n"
          ],
          "name": "stderr"
        }
      ]
    },
    {
      "cell_type": "code",
      "metadata": {
        "colab": {
          "base_uri": "https://localhost:8080/",
          "height": 297
        },
        "id": "8J2Ww_Y_94uy",
        "outputId": "e8186736-d3c3-4cb4-b19e-404efac8aa51"
      },
      "source": [
        "df_c.describe()"
      ],
      "execution_count": null,
      "outputs": [
        {
          "output_type": "execute_result",
          "data": {
            "text/html": [
              "<div>\n",
              "<style scoped>\n",
              "    .dataframe tbody tr th:only-of-type {\n",
              "        vertical-align: middle;\n",
              "    }\n",
              "\n",
              "    .dataframe tbody tr th {\n",
              "        vertical-align: top;\n",
              "    }\n",
              "\n",
              "    .dataframe thead th {\n",
              "        text-align: right;\n",
              "    }\n",
              "</style>\n",
              "<table border=\"1\" class=\"dataframe\">\n",
              "  <thead>\n",
              "    <tr style=\"text-align: right;\">\n",
              "      <th></th>\n",
              "      <th>temp</th>\n",
              "      <th>rain_1h</th>\n",
              "      <th>snow_1h</th>\n",
              "      <th>clouds_all</th>\n",
              "      <th>traffic_volume</th>\n",
              "    </tr>\n",
              "  </thead>\n",
              "  <tbody>\n",
              "    <tr>\n",
              "      <th>count</th>\n",
              "      <td>48204.000000</td>\n",
              "      <td>48204.00000</td>\n",
              "      <td>48204.000000</td>\n",
              "      <td>48204.000000</td>\n",
              "      <td>48204.000000</td>\n",
              "    </tr>\n",
              "    <tr>\n",
              "      <th>mean</th>\n",
              "      <td>281.258894</td>\n",
              "      <td>0.13147</td>\n",
              "      <td>0.000222</td>\n",
              "      <td>49.362231</td>\n",
              "      <td>3259.818355</td>\n",
              "    </tr>\n",
              "    <tr>\n",
              "      <th>std</th>\n",
              "      <td>12.713645</td>\n",
              "      <td>1.03491</td>\n",
              "      <td>0.008168</td>\n",
              "      <td>39.015750</td>\n",
              "      <td>1986.860670</td>\n",
              "    </tr>\n",
              "    <tr>\n",
              "      <th>min</th>\n",
              "      <td>243.390000</td>\n",
              "      <td>0.00000</td>\n",
              "      <td>0.000000</td>\n",
              "      <td>0.000000</td>\n",
              "      <td>0.000000</td>\n",
              "    </tr>\n",
              "    <tr>\n",
              "      <th>25%</th>\n",
              "      <td>272.160000</td>\n",
              "      <td>0.00000</td>\n",
              "      <td>0.000000</td>\n",
              "      <td>1.000000</td>\n",
              "      <td>1193.000000</td>\n",
              "    </tr>\n",
              "    <tr>\n",
              "      <th>50%</th>\n",
              "      <td>282.450000</td>\n",
              "      <td>0.00000</td>\n",
              "      <td>0.000000</td>\n",
              "      <td>64.000000</td>\n",
              "      <td>3380.000000</td>\n",
              "    </tr>\n",
              "    <tr>\n",
              "      <th>75%</th>\n",
              "      <td>291.806000</td>\n",
              "      <td>0.00000</td>\n",
              "      <td>0.000000</td>\n",
              "      <td>90.000000</td>\n",
              "      <td>4933.000000</td>\n",
              "    </tr>\n",
              "    <tr>\n",
              "      <th>max</th>\n",
              "      <td>310.070000</td>\n",
              "      <td>55.80000</td>\n",
              "      <td>0.510000</td>\n",
              "      <td>100.000000</td>\n",
              "      <td>7280.000000</td>\n",
              "    </tr>\n",
              "  </tbody>\n",
              "</table>\n",
              "</div>"
            ],
            "text/plain": [
              "               temp      rain_1h       snow_1h    clouds_all  traffic_volume\n",
              "count  48204.000000  48204.00000  48204.000000  48204.000000    48204.000000\n",
              "mean     281.258894      0.13147      0.000222     49.362231     3259.818355\n",
              "std       12.713645      1.03491      0.008168     39.015750     1986.860670\n",
              "min      243.390000      0.00000      0.000000      0.000000        0.000000\n",
              "25%      272.160000      0.00000      0.000000      1.000000     1193.000000\n",
              "50%      282.450000      0.00000      0.000000     64.000000     3380.000000\n",
              "75%      291.806000      0.00000      0.000000     90.000000     4933.000000\n",
              "max      310.070000     55.80000      0.510000    100.000000     7280.000000"
            ]
          },
          "metadata": {
            "tags": []
          },
          "execution_count": 128
        }
      ]
    },
    {
      "cell_type": "markdown",
      "metadata": {
        "id": "aeU7vmPCk5cv"
      },
      "source": [
        "Now all the features, including rain_1h appear to be in a normal range."
      ]
    },
    {
      "cell_type": "code",
      "metadata": {
        "id": "orBuuPw0949O"
      },
      "source": [
        "df = df_c"
      ],
      "execution_count": null,
      "outputs": []
    },
    {
      "cell_type": "code",
      "metadata": {
        "id": "A8HHRcjaqjPA"
      },
      "source": [
        "# remove date_time feature\n",
        "date_time = pd.to_datetime(df.pop('date_time'), format='%Y-%m-%d %H:%M:%S')"
      ],
      "execution_count": null,
      "outputs": []
    },
    {
      "cell_type": "code",
      "metadata": {
        "colab": {
          "base_uri": "https://localhost:8080/",
          "height": 204
        },
        "id": "8CQG6-w5EwHY",
        "outputId": "8521e97f-c73b-4f7e-a8ed-d32f1e821fce"
      },
      "source": [
        "df.head()"
      ],
      "execution_count": null,
      "outputs": [
        {
          "output_type": "execute_result",
          "data": {
            "text/html": [
              "<div>\n",
              "<style scoped>\n",
              "    .dataframe tbody tr th:only-of-type {\n",
              "        vertical-align: middle;\n",
              "    }\n",
              "\n",
              "    .dataframe tbody tr th {\n",
              "        vertical-align: top;\n",
              "    }\n",
              "\n",
              "    .dataframe thead th {\n",
              "        text-align: right;\n",
              "    }\n",
              "</style>\n",
              "<table border=\"1\" class=\"dataframe\">\n",
              "  <thead>\n",
              "    <tr style=\"text-align: right;\">\n",
              "      <th></th>\n",
              "      <th>holiday</th>\n",
              "      <th>temp</th>\n",
              "      <th>rain_1h</th>\n",
              "      <th>snow_1h</th>\n",
              "      <th>clouds_all</th>\n",
              "      <th>weather_main</th>\n",
              "      <th>weather_description</th>\n",
              "      <th>traffic_volume</th>\n",
              "    </tr>\n",
              "  </thead>\n",
              "  <tbody>\n",
              "    <tr>\n",
              "      <th>0</th>\n",
              "      <td>None</td>\n",
              "      <td>288.28</td>\n",
              "      <td>0.0</td>\n",
              "      <td>0.0</td>\n",
              "      <td>40</td>\n",
              "      <td>Clouds</td>\n",
              "      <td>scattered clouds</td>\n",
              "      <td>5545</td>\n",
              "    </tr>\n",
              "    <tr>\n",
              "      <th>1</th>\n",
              "      <td>None</td>\n",
              "      <td>289.36</td>\n",
              "      <td>0.0</td>\n",
              "      <td>0.0</td>\n",
              "      <td>75</td>\n",
              "      <td>Clouds</td>\n",
              "      <td>broken clouds</td>\n",
              "      <td>4516</td>\n",
              "    </tr>\n",
              "    <tr>\n",
              "      <th>2</th>\n",
              "      <td>None</td>\n",
              "      <td>289.58</td>\n",
              "      <td>0.0</td>\n",
              "      <td>0.0</td>\n",
              "      <td>90</td>\n",
              "      <td>Clouds</td>\n",
              "      <td>overcast clouds</td>\n",
              "      <td>4767</td>\n",
              "    </tr>\n",
              "    <tr>\n",
              "      <th>3</th>\n",
              "      <td>None</td>\n",
              "      <td>290.13</td>\n",
              "      <td>0.0</td>\n",
              "      <td>0.0</td>\n",
              "      <td>90</td>\n",
              "      <td>Clouds</td>\n",
              "      <td>overcast clouds</td>\n",
              "      <td>5026</td>\n",
              "    </tr>\n",
              "    <tr>\n",
              "      <th>4</th>\n",
              "      <td>None</td>\n",
              "      <td>291.14</td>\n",
              "      <td>0.0</td>\n",
              "      <td>0.0</td>\n",
              "      <td>75</td>\n",
              "      <td>Clouds</td>\n",
              "      <td>broken clouds</td>\n",
              "      <td>4918</td>\n",
              "    </tr>\n",
              "  </tbody>\n",
              "</table>\n",
              "</div>"
            ],
            "text/plain": [
              "  holiday    temp  rain_1h  ...  weather_main  weather_description traffic_volume\n",
              "0    None  288.28      0.0  ...        Clouds     scattered clouds           5545\n",
              "1    None  289.36      0.0  ...        Clouds        broken clouds           4516\n",
              "2    None  289.58      0.0  ...        Clouds      overcast clouds           4767\n",
              "3    None  290.13      0.0  ...        Clouds      overcast clouds           5026\n",
              "4    None  291.14      0.0  ...        Clouds        broken clouds           4918\n",
              "\n",
              "[5 rows x 8 columns]"
            ]
          },
          "metadata": {
            "tags": []
          },
          "execution_count": 131
        }
      ]
    },
    {
      "cell_type": "markdown",
      "metadata": {
        "id": "MS_Ad4QwlupC"
      },
      "source": [
        "### Time Series Visualizations"
      ]
    },
    {
      "cell_type": "code",
      "metadata": {
        "colab": {
          "base_uri": "https://localhost:8080/",
          "height": 270
        },
        "id": "KAms-bhhF9RB",
        "outputId": "46af4f67-a470-426d-c063-a01f119bf429"
      },
      "source": [
        "plot_cols = ['traffic_volume']\n",
        "plot_features = df[plot_cols]\n",
        "plot_features.index = date_time\n",
        "#_ = plot_features.plot(subplots=True)\n",
        "\n",
        "#plot_features = df[plot_cols][:8760] # plotted 1 yr of data \n",
        "plot_features.index = date_time[:48204]\n",
        "_ = plot_features.plot(subplots=True)"
      ],
      "execution_count": null,
      "outputs": [
        {
          "output_type": "display_data",
          "data": {
            "image/png": "[encoded data removed]",
            "text/plain": [
              "<Figure size 432x288 with 1 Axes>"
            ]
          },
          "metadata": {
            "tags": [],
            "needs_background": "light"
          }
        }
      ]
    },
    {
      "cell_type": "markdown",
      "metadata": {
        "id": "-_wVObHUGx0B"
      },
      "source": [
        "Here we see traffic volume over time, including the missing data between 2014 and 2015."
      ]
    },
    {
      "cell_type": "code",
      "metadata": {
        "colab": {
          "base_uri": "https://localhost:8080/",
          "height": 270
        },
        "id": "luD1XJu7EInD",
        "outputId": "9282056d-bce7-48da-ce4d-d44e2b81b879"
      },
      "source": [
        "plot_cols = ['temp', 'rain_1h', 'snow_1h', 'clouds_all']\n",
        "plot_features = df[plot_cols]\n",
        "plot_features.index = date_time\n",
        "#_ = plot_features.plot(subplots=True)\n",
        "\n",
        "#plot_features = df[plot_cols][:8760] # plotted 1 yr of data \n",
        "plot_features.index = date_time[:48204]\n",
        "_ = plot_features.plot(subplots=True)"
      ],
      "execution_count": null,
      "outputs": [
        {
          "output_type": "display_data",
          "data": {
            "image/png": "[encoded data removed]",
            "text/plain": [
              "<Figure size 432x288 with 4 Axes>"
            ]
          },
          "metadata": {
            "tags": [],
            "needs_background": "light"
          }
        }
      ]
    },
    {
      "cell_type": "markdown",
      "metadata": {
        "id": "0WP6X2oJG_-7"
      },
      "source": [
        "The numeric independent variables over time. As with traffic volume, of course you can see the gap in data for these variables as well between 2014 and 2015."
      ]
    },
    {
      "cell_type": "markdown",
      "metadata": {
        "id": "0t4Yri-SHc05"
      },
      "source": [
        "A few other observations about the patterns: snow distribution seems odd, as there is one big spike around 2016 and no comparable spikes for other years. Temp shows predictable periodicity. Rain seems somewhat periodic, but also more variable. And it seems like clouds are basically constant."
      ]
    },
    {
      "cell_type": "code",
      "metadata": {
        "colab": {
          "base_uri": "https://localhost:8080/",
          "height": 281
        },
        "id": "DBZQ6u3bIT_U",
        "outputId": "d609c1a6-296a-4b26-f0de-4fd672445f26"
      },
      "source": [
        "ax = sns.scatterplot(data=df_c['snow_1h'])\n",
        "ax.set_title('snow_1h over rows of the dataset')\n",
        "plt.show()"
      ],
      "execution_count": null,
      "outputs": [
        {
          "output_type": "display_data",
          "data": {
            "image/png": "[encoded data removed]",
            "text/plain": [
              "<Figure size 432x288 with 1 Axes>"
            ]
          },
          "metadata": {
            "tags": [],
            "needs_background": "light"
          }
        }
      ]
    },
    {
      "cell_type": "code",
      "metadata": {
        "id": "bUYrN9XTIqzt"
      },
      "source": [
        "# tried removing snow variable and got\n",
        "# comparable results\n",
        "#df.drop(columns=['snow_1h'], inplace=True)"
      ],
      "execution_count": null,
      "outputs": []
    },
    {
      "cell_type": "code",
      "metadata": {
        "colab": {
          "base_uri": "https://localhost:8080/"
        },
        "id": "o9WaculiiTzL",
        "outputId": "83b96469-df03-44ef-c29d-c086b9bd8788"
      },
      "source": [
        "df.snow_1h.value_counts()"
      ],
      "execution_count": null,
      "outputs": [
        {
          "output_type": "execute_result",
          "data": {
            "text/plain": [
              "0.00    48141\n",
              "0.05       14\n",
              "0.06       12\n",
              "0.10        6\n",
              "0.13        6\n",
              "0.51        6\n",
              "0.25        6\n",
              "0.32        5\n",
              "0.17        3\n",
              "0.08        2\n",
              "0.44        2\n",
              "0.21        1\n",
              "Name: snow_1h, dtype: int64"
            ]
          },
          "metadata": {
            "tags": []
          },
          "execution_count": 136
        }
      ]
    },
    {
      "cell_type": "markdown",
      "metadata": {
        "id": "RcZe3GGYhlNO"
      },
      "source": [
        "I also tried binarizing the snow_1h variable and looking at it over time - it is basically the same thing. It appears the snow data is very sparse, probably incomplete. But maybe the avalailable data for that short spurt in 2016 could be helpful."
      ]
    },
    {
      "cell_type": "code",
      "metadata": {
        "id": "fI29Cgcd1sKx"
      },
      "source": [
        "# create dummy variables for categorical variables\n",
        "#holiday_dummies = pd.get_dummies(df.holiday)\n",
        "#weather_main_dummies = pd.get_dummies(df.weather_main) redundant with weather description\n",
        "#weather_description_dummies = pd.get_dummies(df.weather_description) #clouds_all, 1h rain, snow totals \n",
        "                                                                      #perhaps more reliable measure"
      ],
      "execution_count": null,
      "outputs": []
    },
    {
      "cell_type": "code",
      "metadata": {
        "id": "EfAVUvxSa4Fn"
      },
      "source": [
        "# drop standard categorical variables\n",
        "df.drop(columns=['holiday', 'weather_main', 'weather_description'], inplace=True)"
      ],
      "execution_count": null,
      "outputs": []
    },
    {
      "cell_type": "code",
      "metadata": {
        "id": "twAQd26i2PRC"
      },
      "source": [
        "#df = pd.concat([df, holiday_dummies, weather_main_dummies, weather_description_dummies], axis=1)\n",
        "#df = pd.concat([df, holiday_dummies, weather_description_dummies], axis=1)\n",
        "#df = pd.concat([df, holiday_dummies], axis=1) # holiday info not captured in rain, snow totals"
      ],
      "execution_count": null,
      "outputs": []
    },
    {
      "cell_type": "markdown",
      "metadata": {
        "id": "JfdQWVFeAbzO"
      },
      "source": [
        "I tried using all of the categorical variables as model inputs, but this gave worse results. Perhaps the values of weather_main and weather_description are better represented already by the numerical rain_1h, snow_1h, and clouds_all. Holiday, however, does not have representation other than the categorical 'holiday' feature. So I thought I would try to leave it in and see if the model could gain any insights from it. However, this did not improve results either, so I decided to take it out as well."
      ]
    },
    {
      "cell_type": "code",
      "metadata": {
        "colab": {
          "base_uri": "https://localhost:8080/",
          "height": 204
        },
        "id": "rKozcvT-a-uN",
        "outputId": "c69359e9-2b78-4736-e2f8-667df11eb560"
      },
      "source": [
        "df.head()"
      ],
      "execution_count": null,
      "outputs": [
        {
          "output_type": "execute_result",
          "data": {
            "text/html": [
              "<div>\n",
              "<style scoped>\n",
              "    .dataframe tbody tr th:only-of-type {\n",
              "        vertical-align: middle;\n",
              "    }\n",
              "\n",
              "    .dataframe tbody tr th {\n",
              "        vertical-align: top;\n",
              "    }\n",
              "\n",
              "    .dataframe thead th {\n",
              "        text-align: right;\n",
              "    }\n",
              "</style>\n",
              "<table border=\"1\" class=\"dataframe\">\n",
              "  <thead>\n",
              "    <tr style=\"text-align: right;\">\n",
              "      <th></th>\n",
              "      <th>temp</th>\n",
              "      <th>rain_1h</th>\n",
              "      <th>snow_1h</th>\n",
              "      <th>clouds_all</th>\n",
              "      <th>traffic_volume</th>\n",
              "    </tr>\n",
              "  </thead>\n",
              "  <tbody>\n",
              "    <tr>\n",
              "      <th>0</th>\n",
              "      <td>288.28</td>\n",
              "      <td>0.0</td>\n",
              "      <td>0.0</td>\n",
              "      <td>40</td>\n",
              "      <td>5545</td>\n",
              "    </tr>\n",
              "    <tr>\n",
              "      <th>1</th>\n",
              "      <td>289.36</td>\n",
              "      <td>0.0</td>\n",
              "      <td>0.0</td>\n",
              "      <td>75</td>\n",
              "      <td>4516</td>\n",
              "    </tr>\n",
              "    <tr>\n",
              "      <th>2</th>\n",
              "      <td>289.58</td>\n",
              "      <td>0.0</td>\n",
              "      <td>0.0</td>\n",
              "      <td>90</td>\n",
              "      <td>4767</td>\n",
              "    </tr>\n",
              "    <tr>\n",
              "      <th>3</th>\n",
              "      <td>290.13</td>\n",
              "      <td>0.0</td>\n",
              "      <td>0.0</td>\n",
              "      <td>90</td>\n",
              "      <td>5026</td>\n",
              "    </tr>\n",
              "    <tr>\n",
              "      <th>4</th>\n",
              "      <td>291.14</td>\n",
              "      <td>0.0</td>\n",
              "      <td>0.0</td>\n",
              "      <td>75</td>\n",
              "      <td>4918</td>\n",
              "    </tr>\n",
              "  </tbody>\n",
              "</table>\n",
              "</div>"
            ],
            "text/plain": [
              "     temp  rain_1h  snow_1h  clouds_all  traffic_volume\n",
              "0  288.28      0.0      0.0          40            5545\n",
              "1  289.36      0.0      0.0          75            4516\n",
              "2  289.58      0.0      0.0          90            4767\n",
              "3  290.13      0.0      0.0          90            5026\n",
              "4  291.14      0.0      0.0          75            4918"
            ]
          },
          "metadata": {
            "tags": []
          },
          "execution_count": 140
        }
      ]
    },
    {
      "cell_type": "code",
      "metadata": {
        "colab": {
          "base_uri": "https://localhost:8080/"
        },
        "id": "A2Vh7vQYbAjU",
        "outputId": "b347ef42-1037-4be9-c67c-81da7896ba10"
      },
      "source": [
        "df.columns"
      ],
      "execution_count": null,
      "outputs": [
        {
          "output_type": "execute_result",
          "data": {
            "text/plain": [
              "Index(['temp', 'rain_1h', 'snow_1h', 'clouds_all', 'traffic_volume'], dtype='object')"
            ]
          },
          "metadata": {
            "tags": []
          },
          "execution_count": 141
        }
      ]
    },
    {
      "cell_type": "code",
      "metadata": {
        "colab": {
          "base_uri": "https://localhost:8080/",
          "height": 204
        },
        "id": "ZOBlLxD08dBR",
        "outputId": "5c95594b-a3b4-4c66-e5ce-e28f4d21dcda"
      },
      "source": [
        "df.describe().transpose()"
      ],
      "execution_count": null,
      "outputs": [
        {
          "output_type": "execute_result",
          "data": {
            "text/html": [
              "<div>\n",
              "<style scoped>\n",
              "    .dataframe tbody tr th:only-of-type {\n",
              "        vertical-align: middle;\n",
              "    }\n",
              "\n",
              "    .dataframe tbody tr th {\n",
              "        vertical-align: top;\n",
              "    }\n",
              "\n",
              "    .dataframe thead th {\n",
              "        text-align: right;\n",
              "    }\n",
              "</style>\n",
              "<table border=\"1\" class=\"dataframe\">\n",
              "  <thead>\n",
              "    <tr style=\"text-align: right;\">\n",
              "      <th></th>\n",
              "      <th>count</th>\n",
              "      <th>mean</th>\n",
              "      <th>std</th>\n",
              "      <th>min</th>\n",
              "      <th>25%</th>\n",
              "      <th>50%</th>\n",
              "      <th>75%</th>\n",
              "      <th>max</th>\n",
              "    </tr>\n",
              "  </thead>\n",
              "  <tbody>\n",
              "    <tr>\n",
              "      <th>temp</th>\n",
              "      <td>48204.0</td>\n",
              "      <td>281.258894</td>\n",
              "      <td>12.713645</td>\n",
              "      <td>243.39</td>\n",
              "      <td>272.16</td>\n",
              "      <td>282.45</td>\n",
              "      <td>291.806</td>\n",
              "      <td>310.07</td>\n",
              "    </tr>\n",
              "    <tr>\n",
              "      <th>rain_1h</th>\n",
              "      <td>48204.0</td>\n",
              "      <td>0.131470</td>\n",
              "      <td>1.034910</td>\n",
              "      <td>0.00</td>\n",
              "      <td>0.00</td>\n",
              "      <td>0.00</td>\n",
              "      <td>0.000</td>\n",
              "      <td>55.80</td>\n",
              "    </tr>\n",
              "    <tr>\n",
              "      <th>snow_1h</th>\n",
              "      <td>48204.0</td>\n",
              "      <td>0.000222</td>\n",
              "      <td>0.008168</td>\n",
              "      <td>0.00</td>\n",
              "      <td>0.00</td>\n",
              "      <td>0.00</td>\n",
              "      <td>0.000</td>\n",
              "      <td>0.51</td>\n",
              "    </tr>\n",
              "    <tr>\n",
              "      <th>clouds_all</th>\n",
              "      <td>48204.0</td>\n",
              "      <td>49.362231</td>\n",
              "      <td>39.015750</td>\n",
              "      <td>0.00</td>\n",
              "      <td>1.00</td>\n",
              "      <td>64.00</td>\n",
              "      <td>90.000</td>\n",
              "      <td>100.00</td>\n",
              "    </tr>\n",
              "    <tr>\n",
              "      <th>traffic_volume</th>\n",
              "      <td>48204.0</td>\n",
              "      <td>3259.818355</td>\n",
              "      <td>1986.860670</td>\n",
              "      <td>0.00</td>\n",
              "      <td>1193.00</td>\n",
              "      <td>3380.00</td>\n",
              "      <td>4933.000</td>\n",
              "      <td>7280.00</td>\n",
              "    </tr>\n",
              "  </tbody>\n",
              "</table>\n",
              "</div>"
            ],
            "text/plain": [
              "                  count         mean          std  ...      50%       75%      max\n",
              "temp            48204.0   281.258894    12.713645  ...   282.45   291.806   310.07\n",
              "rain_1h         48204.0     0.131470     1.034910  ...     0.00     0.000    55.80\n",
              "snow_1h         48204.0     0.000222     0.008168  ...     0.00     0.000     0.51\n",
              "clouds_all      48204.0    49.362231    39.015750  ...    64.00    90.000   100.00\n",
              "traffic_volume  48204.0  3259.818355  1986.860670  ...  3380.00  4933.000  7280.00\n",
              "\n",
              "[5 rows x 8 columns]"
            ]
          },
          "metadata": {
            "tags": []
          },
          "execution_count": 142
        }
      ]
    },
    {
      "cell_type": "markdown",
      "metadata": {
        "id": "QXIuCrq6lUEB"
      },
      "source": [
        "### Splitting Data"
      ]
    },
    {
      "cell_type": "code",
      "metadata": {
        "id": "-0lcl0rYcKSc"
      },
      "source": [
        "column_indices = {name: i for i, name in enumerate(df.columns)}\n",
        "\n",
        "n = len(df)\n",
        "train_df = df[0:33744] # approx 70% of df\n",
        "val_df = df[33745:43203] # approx 20% of df \n",
        "test_df = df[43204:] # approx 10% of df\n",
        "\n",
        "# used this split to try stateful = true, making train and val\n",
        "# evenly divisible by a batch size of 28\n",
        "#train_df = df[0:33946] # approx 70% of df \n",
        "#val_df = df[33945:43203] # approx 20% of df \n",
        "#test_df = df[43204:] # approx 10% of df\n",
        "\n",
        "# tried making the val_df 10% instead of 20%\n",
        "train_df = df[0:38202] # approx 80% of df\n",
        "val_df = df[38203:43203] # approx 10% of df \n",
        "test_df = df[43204:] # approx 10% of df\n",
        "\n",
        "num_features = df.shape[1]"
      ],
      "execution_count": null,
      "outputs": []
    },
    {
      "cell_type": "code",
      "metadata": {
        "colab": {
          "base_uri": "https://localhost:8080/"
        },
        "id": "UMzJi_uoemAJ",
        "outputId": "13aa9ca0-1e40-47be-c76c-658daa70b01d"
      },
      "source": [
        "print(len(val_df))"
      ],
      "execution_count": null,
      "outputs": [
        {
          "output_type": "stream",
          "text": [
            "5000\n"
          ],
          "name": "stdout"
        }
      ]
    },
    {
      "cell_type": "markdown",
      "metadata": {
        "id": "8IPvYXSHlFH5"
      },
      "source": [
        "### Normalization"
      ]
    },
    {
      "cell_type": "code",
      "metadata": {
        "id": "gkYn7SE7bEKR"
      },
      "source": [
        "train_mean = train_df.mean()\n",
        "train_std = train_df.std()\n",
        "\n",
        "test_mean = test_df.mean()\n",
        "test_std = test_df.std()\n",
        "\n",
        "train_df = (train_df - train_mean) / train_std\n",
        "val_df = (val_df - train_mean) / train_std\n",
        "test_df = (test_df - train_mean) / train_std\n",
        "\n",
        "# test_df = test_df * train_std + train_mean\n",
        "# to denormalize"
      ],
      "execution_count": null,
      "outputs": []
    },
    {
      "cell_type": "code",
      "metadata": {
        "colab": {
          "base_uri": "https://localhost:8080/",
          "height": 450
        },
        "id": "AYaop9oLbIMp",
        "outputId": "45beb8c7-e8fe-4fc8-e4e1-5a9583cda593"
      },
      "source": [
        "df_std = (df - train_mean) / train_std\n",
        "df_std = df_std.melt(var_name='Column', value_name='Normalized')\n",
        "plt.figure(figsize=(12, 6))\n",
        "ax = sns.violinplot(x='Column', y='Normalized', data=df_std)\n",
        "_ = ax.set_xticklabels(df.keys(), rotation=90)"
      ],
      "execution_count": null,
      "outputs": [
        {
          "output_type": "display_data",
          "data": {
            "image/png": "[encoded data removed]",
            "text/plain": [
              "<Figure size 864x432 with 1 Axes>"
            ]
          },
          "metadata": {
            "tags": [],
            "needs_background": "light"
          }
        }
      ]
    },
    {
      "cell_type": "markdown",
      "metadata": {
        "id": "Ps0cXtwWmEaV"
      },
      "source": [
        "Violin plot of the variables. Rain and snow 1h totals, as we expect given the variability of rainfall and snowfall, still have a large range, with a few values that are much larger than the rest. The other features have more normal distributuions."
      ]
    },
    {
      "cell_type": "markdown",
      "metadata": {
        "id": "CgKkEWlUqdJx"
      },
      "source": [
        "## Code From TF Tutorial"
      ]
    },
    {
      "cell_type": "code",
      "metadata": {
        "id": "hlpU2iLibrj5"
      },
      "source": [
        "class WindowGenerator():\n",
        "  def __init__(self, input_width, label_width, shift,\n",
        "               train_df=train_df, val_df=val_df, test_df=test_df,\n",
        "               label_columns=None):\n",
        "    # Store the raw data.\n",
        "    self.train_df = train_df\n",
        "    self.val_df = val_df\n",
        "    self.test_df = test_df\n",
        "\n",
        "    # Work out the label column indices.\n",
        "    self.label_columns = label_columns\n",
        "    if label_columns is not None:\n",
        "      self.label_columns_indices = {name: i for i, name in\n",
        "                                    enumerate(label_columns)}\n",
        "    self.column_indices = {name: i for i, name in\n",
        "                           enumerate(train_df.columns)}\n",
        "\n",
        "    # Work out the window parameters.\n",
        "    self.input_width = input_width\n",
        "    self.label_width = label_width\n",
        "    self.shift = shift\n",
        "\n",
        "    self.total_window_size = input_width + shift\n",
        "\n",
        "    self.input_slice = slice(0, input_width)\n",
        "    self.input_indices = np.arange(self.total_window_size)[self.input_slice]\n",
        "\n",
        "    self.label_start = self.total_window_size - self.label_width\n",
        "    self.labels_slice = slice(self.label_start, None)\n",
        "    self.label_indices = np.arange(self.total_window_size)[self.labels_slice]\n",
        "\n",
        "  def __repr__(self):\n",
        "    return '\\n'.join([\n",
        "        f'Total window size: {self.total_window_size}',\n",
        "        f'Input indices: {self.input_indices}',\n",
        "        f'Label indices: {self.label_indices}',\n",
        "        f'Label column name(s): {self.label_columns}'])"
      ],
      "execution_count": null,
      "outputs": []
    },
    {
      "cell_type": "code",
      "metadata": {
        "id": "pn4G8W2GcyrD"
      },
      "source": [
        "def split_window(self, features):\n",
        "  inputs = features[:, self.input_slice, :]\n",
        "  labels = features[:, self.labels_slice, :]\n",
        "  if self.label_columns is not None:\n",
        "    labels = tf.stack(\n",
        "        [labels[:, :, self.column_indices[name]] for name in self.label_columns],\n",
        "        axis=-1)\n",
        "\n",
        "  # Slicing doesn't preserve static shape information, so set the shapes\n",
        "  # manually. This way the `tf.data.Datasets` are easier to inspect.\n",
        "  inputs.set_shape([None, self.input_width, None])\n",
        "  labels.set_shape([None, self.label_width, None])\n",
        "\n",
        "  return inputs, labels\n",
        "\n",
        "WindowGenerator.split_window = split_window"
      ],
      "execution_count": null,
      "outputs": []
    },
    {
      "cell_type": "code",
      "metadata": {
        "id": "j0kLGIvxdAvB"
      },
      "source": [
        "def plot(self, model=None, plot_col='T (degC)', max_subplots=3):\n",
        "  inputs, labels = self.example\n",
        "  plt.figure(figsize=(12, 8))\n",
        "  plot_col_index = self.column_indices[plot_col]\n",
        "  max_n = min(max_subplots, len(inputs))\n",
        "  for n in range(max_n):\n",
        "    plt.subplot(max_n, 1, n+1)\n",
        "    plt.ylabel(f'{plot_col} [normed]')\n",
        "    plt.plot(self.input_indices, inputs[n, :, plot_col_index],\n",
        "             label='Inputs', marker='.', zorder=-10)\n",
        "\n",
        "    if self.label_columns:\n",
        "      label_col_index = self.label_columns_indices.get(plot_col, None)\n",
        "    else:\n",
        "      label_col_index = plot_col_index\n",
        "\n",
        "    if label_col_index is None:\n",
        "      continue\n",
        "\n",
        "    plt.scatter(self.label_indices, labels[n, :, label_col_index],\n",
        "                edgecolors='k', label='Labels', c='#2ca02c', s=64)\n",
        "    if model is not None:\n",
        "      predictions = model(inputs)\n",
        "      plt.scatter(self.label_indices, predictions[n, :, label_col_index],\n",
        "                  marker='X', edgecolors='k', label='Predictions',\n",
        "                  c='#ff7f0e', s=64)\n",
        "\n",
        "    if n == 0:\n",
        "      plt.legend()\n",
        "\n",
        "  plt.xlabel('Time [h]')\n",
        "\n",
        "WindowGenerator.plot = plot"
      ],
      "execution_count": null,
      "outputs": []
    },
    {
      "cell_type": "code",
      "metadata": {
        "id": "eNGNxtm_dEpp"
      },
      "source": [
        "def plot(self, model=None, plot_col='T (degC)', max_subplots=3):\n",
        "  inputs, labels = self.example\n",
        "  plt.figure(figsize=(12, 8))\n",
        "  plot_col_index = self.column_indices[plot_col]\n",
        "  max_n = min(max_subplots, len(inputs))\n",
        "  for n in range(max_n):\n",
        "    plt.subplot(max_n, 1, n+1)\n",
        "    plt.ylabel(f'{plot_col} [normed]')\n",
        "    plt.plot(self.input_indices, inputs[n, :, plot_col_index],\n",
        "             label='Inputs', marker='.', zorder=-10)\n",
        "\n",
        "    if self.label_columns:\n",
        "      label_col_index = self.label_columns_indices.get(plot_col, None)\n",
        "    else:\n",
        "      label_col_index = plot_col_index\n",
        "\n",
        "    if label_col_index is None:\n",
        "      continue\n",
        "\n",
        "    plt.scatter(self.label_indices, labels[n, :, label_col_index],\n",
        "                edgecolors='k', label='Labels', c='#2ca02c', s=64)\n",
        "    if model is not None:\n",
        "      predictions = model(inputs)\n",
        "      plt.scatter(self.label_indices, predictions[n, :, label_col_index],\n",
        "                  marker='X', edgecolors='k', label='Predictions',\n",
        "                  c='#ff7f0e', s=64)\n",
        "\n",
        "    if n == 0:\n",
        "      plt.legend()\n",
        "\n",
        "  plt.xlabel('Time [h]')\n",
        "\n",
        "WindowGenerator.plot = plot"
      ],
      "execution_count": null,
      "outputs": []
    },
    {
      "cell_type": "markdown",
      "metadata": {
        "id": "w47sMUJXoCNL"
      },
      "source": [
        "### Experimenting with Batch Sizes"
      ]
    },
    {
      "cell_type": "code",
      "metadata": {
        "id": "a_wBTIO3dO35"
      },
      "source": [
        "def make_dataset(self, data):\n",
        "  data = np.array(data, dtype=np.float32)\n",
        "  ds = tf.keras.preprocessing.timeseries_dataset_from_array(\n",
        "      data=data,\n",
        "      targets=None,\n",
        "      sequence_length=self.total_window_size,\n",
        "      sequence_stride=1,\n",
        "      shuffle=False, #IW Changed shuffle to False\n",
        "      # Note: I tried changing to true for training data and had comparable results\n",
        "      # This did not make a significant difference with my model results,\n",
        "      # so I left code out\n",
        "      batch_size=5000,) # IW Experimented with batch sizes of 32, 64, 128, 5000, 8760\n",
        "\n",
        "  ds = ds.map(self.split_window)\n",
        "\n",
        "  return ds\n",
        "\n",
        "WindowGenerator.make_dataset = make_dataset"
      ],
      "execution_count": null,
      "outputs": []
    },
    {
      "cell_type": "code",
      "metadata": {
        "id": "mUQK69pzdRT_"
      },
      "source": [
        "@property\n",
        "def train(self):\n",
        "  return self.make_dataset(self.train_df)\n",
        "\n",
        "@property\n",
        "def val(self):\n",
        "  return self.make_dataset(self.val_df)\n",
        "\n",
        "@property\n",
        "def test(self):\n",
        "  return self.make_dataset(self.test_df)\n",
        "\n",
        "@property\n",
        "def example(self):\n",
        "  \"\"\"Get and cache an example batch of `inputs, labels` for plotting.\"\"\"\n",
        "  result = getattr(self, '_example', None)\n",
        "  if result is None:\n",
        "    # No example batch was found, so get one from the `.train` dataset\n",
        "    result = next(iter(self.train))\n",
        "    # And cache it for next time\n",
        "    self._example = result\n",
        "  return result\n",
        "\n",
        "WindowGenerator.train = train\n",
        "WindowGenerator.val = val\n",
        "WindowGenerator.test = test\n",
        "WindowGenerator.example = example"
      ],
      "execution_count": null,
      "outputs": []
    },
    {
      "cell_type": "markdown",
      "metadata": {
        "id": "q3zDLWTf-A_y"
      },
      "source": [
        "### Window Generation"
      ]
    },
    {
      "cell_type": "code",
      "metadata": {
        "colab": {
          "base_uri": "https://localhost:8080/"
        },
        "id": "tw0uCILUdTs7",
        "outputId": "3b754aa4-7394-4fb5-bb79-ad09fea8feb7"
      },
      "source": [
        "six_step_window = WindowGenerator(\n",
        "    input_width=6, label_width=1, shift=2, #IW changed input_width to 6 and shift to 2\n",
        "    label_columns=['traffic_volume'])\n",
        "six_step_window"
      ],
      "execution_count": null,
      "outputs": [
        {
          "output_type": "execute_result",
          "data": {
            "text/plain": [
              "Total window size: 8\n",
              "Input indices: [0 1 2 3 4 5]\n",
              "Label indices: [7]\n",
              "Label column name(s): ['traffic_volume']"
            ]
          },
          "metadata": {
            "tags": []
          },
          "execution_count": 60
        }
      ]
    },
    {
      "cell_type": "code",
      "metadata": {
        "colab": {
          "base_uri": "https://localhost:8080/"
        },
        "id": "4yXYBQkadvRX",
        "outputId": "cca99e77-d134-4353-b635-da423c9237c1"
      },
      "source": [
        "for example_inputs, example_labels in six_step_window.train.take(1):\n",
        "  print(f'Inputs shape (batch, time, features): {example_inputs.shape}')\n",
        "  print(f'Labels shape (batch, time, features): {example_labels.shape}')"
      ],
      "execution_count": null,
      "outputs": [
        {
          "output_type": "stream",
          "text": [
            "Inputs shape (batch, time, features): (5000, 6, 4)\n",
            "Labels shape (batch, time, features): (5000, 1, 1)\n"
          ],
          "name": "stdout"
        }
      ]
    },
    {
      "cell_type": "markdown",
      "metadata": {
        "id": "1erKzMWhrA9G"
      },
      "source": [
        "### Model Compile and Fit Function"
      ]
    },
    {
      "cell_type": "code",
      "metadata": {
        "id": "UQqW66dweyWU"
      },
      "source": [
        "MAX_EPOCHS = 1000\n",
        "\n",
        "def compile_and_fit(model, window, patience=3):\n",
        "\n",
        "# IW Removed Early Stopping Callback\n",
        "# I find sometimes this can be limiting\n",
        "# Sometimes the model looks like it has hit a wall and is able to keep going\n",
        "# I've found it helpful to see how the model overfits, using this information\n",
        "# to think about implementation regularizations \n",
        "\n",
        "  model.compile(loss=tf.losses.MeanSquaredError(),\n",
        "                optimizer=tf.optimizers.Adam(),\n",
        "                metrics=[tf.metrics.MeanAbsoluteError()])\n",
        "\n",
        "  history = model.fit(window.train, epochs=MAX_EPOCHS,\n",
        "                      validation_data=window.val, shuffle=True, #IW added shuffle=True\n",
        "                      callbacks=[LearningRateScheduler(lr_schedule)])\n",
        "  return history"
      ],
      "execution_count": null,
      "outputs": []
    },
    {
      "cell_type": "markdown",
      "metadata": {
        "id": "yW0hVpnyqsff"
      },
      "source": [
        "## Learning Rate Optimization"
      ]
    },
    {
      "cell_type": "markdown",
      "metadata": {
        "id": "YH0uj8J1q4Tc"
      },
      "source": [
        "This was used with the later models."
      ]
    },
    {
      "cell_type": "code",
      "metadata": {
        "id": "_6CKeI-we2EW"
      },
      "source": [
        "# added this to be passed in as a callback\n",
        "# after trying multiple models and looking for another way \n",
        "# to improve performance\n",
        "# changes learning rate based on # of epochs\n",
        "# other combinations were used \n",
        "\n",
        "def lr_schedule(epoch):\n",
        "    lrate = 0.001\n",
        "    if epoch > 100:\n",
        "        lrate = 0.0009\n",
        "    if epoch > 200:\n",
        "        lrate = 0.0008\n",
        "    if epoch > 300:\n",
        "        lrate = 0.0007\n",
        "    if epoch > 400:\n",
        "        lrate = 0.0006\n",
        "    if epoch > 500:\n",
        "        lrate = 0.0005\n",
        "    if epoch > 600:\n",
        "        lrate = 0.0004\n",
        "    if epoch > 700:\n",
        "        lrate = 0.0003\n",
        "    return lrate"
      ],
      "execution_count": null,
      "outputs": []
    },
    {
      "cell_type": "markdown",
      "metadata": {
        "id": "skLa804P-ctz"
      },
      "source": [
        "## Model Testing and Selection"
      ]
    },
    {
      "cell_type": "markdown",
      "metadata": {
        "id": "BfGLGdh0pN06"
      },
      "source": [
        "### 16 Total Models Included"
      ]
    },
    {
      "cell_type": "markdown",
      "metadata": {
        "id": "W7HKx6rzpfvi"
      },
      "source": [
        "Some are not included - I tried quite a few more than this."
      ]
    },
    {
      "cell_type": "markdown",
      "metadata": {
        "id": "N5FBKyFN_Vz4"
      },
      "source": [
        "I left the models in the order that I tried them, to show the progression of different approaches. Most include comment code describing the changes made, as well as the performance change(s)."
      ]
    },
    {
      "cell_type": "markdown",
      "metadata": {
        "id": "uP0wWha8EQJ3"
      },
      "source": [
        "### Base Model"
      ]
    },
    {
      "cell_type": "code",
      "metadata": {
        "id": "d2c3Nh0edwhJ"
      },
      "source": [
        "# base model\n",
        "\n",
        "lstm_model = tf.keras.models.Sequential([\n",
        "    # Shape [batch, time, features] => [batch, time, lstm_units]\n",
        "    tf.keras.layers.LSTM(32, return_sequences=False),\n",
        "    # Shape => [batch, time, features]\n",
        "    tf.keras.layers.Dense(units=1)\n",
        "])\n",
        "\n",
        "# best results: val_loss: 0.12 , val_mae: 0.24"
      ],
      "execution_count": null,
      "outputs": []
    },
    {
      "cell_type": "markdown",
      "metadata": {
        "id": "2fL5kR5G_Ztz"
      },
      "source": [
        "### Intermediate Models"
      ]
    },
    {
      "cell_type": "code",
      "metadata": {
        "id": "HgpBJfcJSrri"
      },
      "source": [
        "# model 1\n",
        "# experimented with the batch sizes of 32, 64, 128\n",
        "# batch size = 32 had best performance\n",
        "# experimented with number of recurrent units: 32, 64, 128, 256\n",
        "# units = 256 had best performance\n",
        "# overfitting clearly a problem after a certain # of epochs\n",
        "# experimented with combinations of the above\n",
        "# best combination was bs = 32 , units = 256\n",
        "# best results: val_loss: 0.09 , val_mae: .21\n",
        "\n",
        "# It seemed like performance was somewhat subjective. What I mean by this is,\n",
        "# a few times I got different results with the same configuration of batch size\n",
        "# and units on separate runs, which I thought was odd\n",
        "\n",
        "lstm_model = tf.keras.models.Sequential([\n",
        "    tf.keras.layers.LSTM(256, return_sequences=False), \n",
        "    tf.keras.layers.Dense(units=1)\n",
        "])"
      ],
      "execution_count": null,
      "outputs": []
    },
    {
      "cell_type": "code",
      "metadata": {
        "id": "BGEU1UzGQfv8"
      },
      "source": [
        "# model 2\n",
        "# experimenting with stacked recurrent layers\n",
        "# first added additional 128 unit layer, then another 64\n",
        "# I noticed a dramatic increase in performance here on the validation data\n",
        "# but the model did quickly start overfitting once it reached around 30+ epochs\n",
        "# and even earlier the more layers I added on\n",
        "\n",
        "# best results: val_loss: 0.082 , mae: 0.19\n",
        "\n",
        "lstm_model = tf.keras.models.Sequential([\n",
        "    tf.keras.layers.LSTM(256, return_sequences=True),\n",
        "    tf.keras.layers.LSTM(128, return_sequences=True),\n",
        "    tf.keras.layers.LSTM(64, return_sequences=True),\n",
        "    tf.keras.layers.LSTM(32, return_sequences=False),\n",
        "    tf.keras.layers.Dense(units=1)\n",
        "])"
      ],
      "execution_count": null,
      "outputs": []
    },
    {
      "cell_type": "code",
      "metadata": {
        "colab": {
          "base_uri": "https://localhost:8080/"
        },
        "id": "KqDeSGvMXQmT",
        "outputId": "b460d270-b369-432b-92fb-0ca5d2a77ed6"
      },
      "source": [
        "# model 3\n",
        "# experimenting with dropout to help with overfitting\n",
        "# model is much slower becuase cannot use cuDNN kernels after setting \n",
        "# recurrent dropout > 0, 46s/epoch, compared to <10s/epoch before\n",
        "# however, improved performance on more epochs, less overfitting\n",
        "\n",
        "# best results: val_loss: 0.078  mae: 0.185\n",
        "\n",
        "lstm_model = tf.keras.models.Sequential([\n",
        "    tf.keras.layers.LSTM(256, return_sequences=True, recurrent_dropout=0.2),\n",
        "    tf.keras.layers.LSTM(128, return_sequences=True, recurrent_dropout=0.2),\n",
        "    tf.keras.layers.LSTM(64, return_sequences=True, recurrent_dropout=0.2),\n",
        "    tf.keras.layers.LSTM(32, return_sequences=False, recurrent_dropout=0.2),\n",
        "    tf.keras.layers.Dense(units=1)\n",
        "])"
      ],
      "execution_count": null,
      "outputs": [
        {
          "output_type": "stream",
          "text": [
            "WARNING:tensorflow:Layer lstm_6 will not use cuDNN kernels since it doesn't meet the criteria. It will use a generic GPU kernel as fallback when running on GPU.\n",
            "WARNING:tensorflow:Layer lstm_7 will not use cuDNN kernels since it doesn't meet the criteria. It will use a generic GPU kernel as fallback when running on GPU.\n",
            "WARNING:tensorflow:Layer lstm_8 will not use cuDNN kernels since it doesn't meet the criteria. It will use a generic GPU kernel as fallback when running on GPU.\n",
            "WARNING:tensorflow:Layer lstm_9 will not use cuDNN kernels since it doesn't meet the criteria. It will use a generic GPU kernel as fallback when running on GPU.\n"
          ],
          "name": "stdout"
        }
      ]
    },
    {
      "cell_type": "code",
      "metadata": {
        "colab": {
          "base_uri": "https://localhost:8080/"
        },
        "id": "CDtj-dCzRwP0",
        "outputId": "4dbf79d5-34e3-4202-d829-86d97e7a7692"
      },
      "source": [
        "# model 4\n",
        "# experimenting with bidirectionality\n",
        "# longer training time per /epoch\n",
        "# get more warnings about not being able to use cuDNN kernels \n",
        "# because of bidirectionality as well as recurrent_dropout\n",
        "\n",
        "# Best results: val_loss: .077  mae: 0.185\n",
        "\n",
        "lstm_model = tf.keras.models.Sequential([\n",
        "    tf.keras.layers.Bidirectional(\n",
        "        tf.keras.layers.LSTM(256, return_sequences=True, recurrent_dropout=0.2)),\n",
        "    tf.keras.layers.Bidirectional(\n",
        "        tf.keras.layers.LSTM(128, return_sequences=True, recurrent_dropout=0.2)),\n",
        "    tf.keras.layers.Bidirectional(\n",
        "        tf.keras.layers.LSTM(64, return_sequences=True, recurrent_dropout=0.2)),\n",
        "    tf.keras.layers.Bidirectional(\n",
        "        tf.keras.layers.LSTM(32, return_sequences=False, recurrent_dropout=0.2)),\n",
        "    tf.keras.layers.Dense(units=1)\n",
        "])"
      ],
      "execution_count": null,
      "outputs": [
        {
          "output_type": "stream",
          "text": [
            "WARNING:tensorflow:Layer lstm_10 will not use cuDNN kernels since it doesn't meet the criteria. It will use a generic GPU kernel as fallback when running on GPU.\n",
            "WARNING:tensorflow:Layer lstm_10 will not use cuDNN kernels since it doesn't meet the criteria. It will use a generic GPU kernel as fallback when running on GPU.\n",
            "WARNING:tensorflow:Layer lstm_10 will not use cuDNN kernels since it doesn't meet the criteria. It will use a generic GPU kernel as fallback when running on GPU.\n",
            "WARNING:tensorflow:Layer lstm_11 will not use cuDNN kernels since it doesn't meet the criteria. It will use a generic GPU kernel as fallback when running on GPU.\n",
            "WARNING:tensorflow:Layer lstm_11 will not use cuDNN kernels since it doesn't meet the criteria. It will use a generic GPU kernel as fallback when running on GPU.\n",
            "WARNING:tensorflow:Layer lstm_11 will not use cuDNN kernels since it doesn't meet the criteria. It will use a generic GPU kernel as fallback when running on GPU.\n",
            "WARNING:tensorflow:Layer lstm_12 will not use cuDNN kernels since it doesn't meet the criteria. It will use a generic GPU kernel as fallback when running on GPU.\n",
            "WARNING:tensorflow:Layer lstm_12 will not use cuDNN kernels since it doesn't meet the criteria. It will use a generic GPU kernel as fallback when running on GPU.\n",
            "WARNING:tensorflow:Layer lstm_12 will not use cuDNN kernels since it doesn't meet the criteria. It will use a generic GPU kernel as fallback when running on GPU.\n",
            "WARNING:tensorflow:Layer lstm_13 will not use cuDNN kernels since it doesn't meet the criteria. It will use a generic GPU kernel as fallback when running on GPU.\n",
            "WARNING:tensorflow:Layer lstm_13 will not use cuDNN kernels since it doesn't meet the criteria. It will use a generic GPU kernel as fallback when running on GPU.\n",
            "WARNING:tensorflow:Layer lstm_13 will not use cuDNN kernels since it doesn't meet the criteria. It will use a generic GPU kernel as fallback when running on GPU.\n"
          ],
          "name": "stdout"
        }
      ]
    },
    {
      "cell_type": "code",
      "metadata": {
        "id": "ljCIGSoSWA7i"
      },
      "source": [
        "# model 5\n",
        "\n",
        "# model 2 with added (normal) dropout\n",
        "# best results: val_loss: 0.0765, val_mae = 0.18\n",
        "\n",
        "lstm_model = tf.keras.models.Sequential([\n",
        "    tf.keras.layers.LSTM(256, return_sequences=True),\n",
        "    tf.keras.layers.Dropout(0.2),\n",
        "    tf.keras.layers.LSTM(128, return_sequences=True),\n",
        "    tf.keras.layers.Dropout(0.2),\n",
        "    tf.keras.layers.LSTM(64, return_sequences=True),\n",
        "    tf.keras.layers.Dropout(0.2),\n",
        "    tf.keras.layers.LSTM(32, return_sequences=False),\n",
        "    tf.keras.layers.Dropout(0.2),\n",
        "    tf.keras.layers.Dense(units=1)\n",
        "])"
      ],
      "execution_count": null,
      "outputs": []
    },
    {
      "cell_type": "code",
      "metadata": {
        "colab": {
          "base_uri": "https://localhost:8080/"
        },
        "id": "s8Vzrs-MAogU",
        "outputId": "0adb4c45-1866-41fc-8f03-8eba303cad12"
      },
      "source": [
        "# model 6\n",
        "\n",
        "# model 2 with added (normal) dropout and recurrent dropout\n",
        "\n",
        "# best results: val_loss: 0.072  val_mae: 0.18\n",
        "\n",
        "\n",
        "lstm_model = tf.keras.models.Sequential([\n",
        "    tf.keras.layers.LSTM(256, return_sequences=True, recurrent_dropout=0.2),\n",
        "    tf.keras.layers.Dropout(0.2),\n",
        "    tf.keras.layers.LSTM(128, return_sequences=True, recurrent_dropout=0.2),\n",
        "    tf.keras.layers.Dropout(0.2),\n",
        "    tf.keras.layers.LSTM(64, return_sequences=True, recurrent_dropout=0.2),\n",
        "    tf.keras.layers.Dropout(0.2),\n",
        "    tf.keras.layers.LSTM(32, return_sequences=False, recurrent_dropout=0.2),\n",
        "    tf.keras.layers.Dropout(0.2),\n",
        "    tf.keras.layers.Dense(units=1)\n",
        "])"
      ],
      "execution_count": null,
      "outputs": [
        {
          "output_type": "stream",
          "text": [
            "WARNING:tensorflow:Layer lstm_61 will not use cuDNN kernels since it doesn't meet the criteria. It will use a generic GPU kernel as fallback when running on GPU.\n",
            "WARNING:tensorflow:Layer lstm_62 will not use cuDNN kernels since it doesn't meet the criteria. It will use a generic GPU kernel as fallback when running on GPU.\n",
            "WARNING:tensorflow:Layer lstm_63 will not use cuDNN kernels since it doesn't meet the criteria. It will use a generic GPU kernel as fallback when running on GPU.\n",
            "WARNING:tensorflow:Layer lstm_64 will not use cuDNN kernels since it doesn't meet the criteria. It will use a generic GPU kernel as fallback when running on GPU.\n"
          ],
          "name": "stdout"
        }
      ]
    },
    {
      "cell_type": "markdown",
      "metadata": {
        "id": "jUXzVnAbipjd"
      },
      "source": [
        "### BEST KAGGLE MODEL"
      ]
    },
    {
      "cell_type": "code",
      "metadata": {
        "colab": {
          "base_uri": "https://localhost:8080/"
        },
        "id": "Lz_cSU0ED-ht",
        "outputId": "3ff9f58a-6c1c-46f2-8473-2dc2fb456d54"
      },
      "source": [
        "# model 7\n",
        "# **BEST PERFORMING KAGGLE MODEL**\n",
        "# 4-layer GRU\n",
        "# faster convergence to low error metrics\n",
        "# comparable performance to 4-layer LSTM, but scored higher on Kaggle \n",
        "\n",
        "lstm_model = tf.keras.models.Sequential([\n",
        "    tf.keras.layers.GRU(256, return_sequences=True, recurrent_dropout=0.2),\n",
        "    tf.keras.layers.Dropout(0.2),\n",
        "    tf.keras.layers.GRU(128, return_sequences=True, recurrent_dropout=0.2),\n",
        "    tf.keras.layers.Dropout(0.2),\n",
        "    tf.keras.layers.GRU(64, return_sequences=True, recurrent_dropout=0.2),\n",
        "    tf.keras.layers.Dropout(0.2),\n",
        "    tf.keras.layers.GRU(32, return_sequences=False, recurrent_dropout=0.2),\n",
        "    tf.keras.layers.Dropout(0.2),\n",
        "    tf.keras.layers.Dense(units=1)\n",
        "])"
      ],
      "execution_count": null,
      "outputs": [
        {
          "output_type": "stream",
          "text": [
            "WARNING:tensorflow:Layer gru will not use cuDNN kernels since it doesn't meet the criteria. It will use a generic GPU kernel as fallback when running on GPU.\n",
            "WARNING:tensorflow:Layer gru_1 will not use cuDNN kernels since it doesn't meet the criteria. It will use a generic GPU kernel as fallback when running on GPU.\n",
            "WARNING:tensorflow:Layer gru_2 will not use cuDNN kernels since it doesn't meet the criteria. It will use a generic GPU kernel as fallback when running on GPU.\n",
            "WARNING:tensorflow:Layer gru_3 will not use cuDNN kernels since it doesn't meet the criteria. It will use a generic GPU kernel as fallback when running on GPU.\n"
          ],
          "name": "stdout"
        }
      ]
    },
    {
      "cell_type": "markdown",
      "metadata": {
        "id": "MayEbMh3jCiO"
      },
      "source": [
        "### More Intermediate Models"
      ]
    },
    {
      "cell_type": "code",
      "metadata": {
        "colab": {
          "base_uri": "https://localhost:8080/"
        },
        "id": "JcdLUCfkTTa_",
        "outputId": "97a2c825-3427-4591-8644-f41b3d68ee03"
      },
      "source": [
        "# model 9\n",
        "# experimenting with Conv1D and GRU\n",
        "\n",
        "lstm_model = Sequential()\n",
        "lstm_model.add(Conv1D(64, kernel_size=3, activation = 'relu', input_shape=(6,5)))\n",
        "model.add(Dropout(0.2))\n",
        "lstm_model.add(MaxPooling1D(2))\n",
        "lstm_model.add(GRU(256, return_sequences=True, recurrent_dropout=0.2))\n",
        "lstm_model.add(Dense(100))\n",
        "lstm_model.add(Dense(1, activation='sigmoid'))"
      ],
      "execution_count": null,
      "outputs": [
        {
          "output_type": "stream",
          "text": [
            "WARNING:tensorflow:Layer gru will not use cuDNN kernels since it doesn't meet the criteria. It will use a generic GPU kernel as fallback when running on GPU.\n"
          ],
          "name": "stdout"
        }
      ]
    },
    {
      "cell_type": "code",
      "metadata": {
        "id": "73sKeVe5795q"
      },
      "source": [
        "# model 10\n",
        "# experimenting with Conv1D and LSTM\n",
        "\n",
        "lstm_model = Sequential()\n",
        "lstm_model.add(Conv1D(64, kernel_size=3, activation = 'relu', input_shape=(6,5)))\n",
        "model.add(Dropout(0.2))\n",
        "lstm_model.add(MaxPooling1D(2))\n",
        "lstm_model.add(LSTM(256, return_sequences=True, recurrent_dropout=0.2))\n",
        "lstm_model.add(Dense(100))\n",
        "lstm_model.add(Dense(1, activation='sigmoid'))"
      ],
      "execution_count": null,
      "outputs": []
    },
    {
      "cell_type": "code",
      "metadata": {
        "colab": {
          "base_uri": "https://localhost:8080/"
        },
        "id": "HWlyfGT4b0gR",
        "outputId": "06b82729-a2ff-40f1-a84b-673ae5ae02ce"
      },
      "source": [
        "# model 11\n",
        "# GRU layers from model 7\n",
        "# but ran for more epochs and optimized learning rate\n",
        "# lowered learning rate incrementally every 40 epochs using the \n",
        "# learning rate scheduler shown earlier \n",
        "\n",
        "# best results: hit a wall again around 0.075 , 0.18\n",
        "\n",
        "lstm_model = tf.keras.models.Sequential([\n",
        "    tf.keras.layers.GRU(256, return_sequences=True, recurrent_dropout=0.5),\n",
        "    tf.keras.layers.Dropout(0.2),\n",
        "    tf.keras.layers.GRU(128, return_sequences=True, recurrent_dropout=0.5),\n",
        "    tf.keras.layers.Dropout(0.2),\n",
        "    tf.keras.layers.GRU(64, return_sequences=True, recurrent_dropout=0.5),\n",
        "    tf.keras.layers.Dropout(0.2),\n",
        "    tf.keras.layers.GRU(32, return_sequences=False, recurrent_dropout=0.5),\n",
        "    tf.keras.layers.Dropout(0.2),\n",
        "    tf.keras.layers.Dense(units=1)\n",
        "])"
      ],
      "execution_count": null,
      "outputs": [
        {
          "output_type": "stream",
          "text": [
            "WARNING:tensorflow:Layer gru_16 will not use cuDNN kernels since it doesn't meet the criteria. It will use a generic GPU kernel as fallback when running on GPU.\n",
            "WARNING:tensorflow:Layer gru_17 will not use cuDNN kernels since it doesn't meet the criteria. It will use a generic GPU kernel as fallback when running on GPU.\n",
            "WARNING:tensorflow:Layer gru_18 will not use cuDNN kernels since it doesn't meet the criteria. It will use a generic GPU kernel as fallback when running on GPU.\n",
            "WARNING:tensorflow:Layer gru_19 will not use cuDNN kernels since it doesn't meet the criteria. It will use a generic GPU kernel as fallback when running on GPU.\n"
          ],
          "name": "stdout"
        }
      ]
    },
    {
      "cell_type": "markdown",
      "metadata": {
        "id": "BavFoHYgmsbi"
      },
      "source": [
        "### SECOND BEST MODEL"
      ]
    },
    {
      "cell_type": "code",
      "metadata": {
        "colab": {
          "base_uri": "https://localhost:8080/"
        },
        "id": "ZxFP_BTs6gI8",
        "outputId": "250ef457-a3a5-491c-e1a6-8161b12a14e2"
      },
      "source": [
        "# model 12\n",
        "## **SECOND BEST PERFORMING KAGGLE MODEL**\n",
        "# Note: this model performed 2nd best on Kaggle, but best on validation data\n",
        "# Same structure as model 6\n",
        "# Changed batch size to 8760 (the number of hours in a year)\n",
        "# And then to 5000 (size of test data)\n",
        "# Used Learning Rate Scheduler\n",
        "\n",
        "# best results: val_loss: 0.0706  val_mae: 0.173\n",
        "lstm_model = tf.keras.models.Sequential([\n",
        "    tf.keras.layers.LSTM(256, return_sequences=True, recurrent_dropout=0.2),\n",
        "    tf.keras.layers.Dropout(0.2),\n",
        "    tf.keras.layers.LSTM(128, return_sequences=True, recurrent_dropout=0.2),\n",
        "    tf.keras.layers.Dropout(0.2),\n",
        "    tf.keras.layers.LSTM(64, return_sequences=True, recurrent_dropout=0.2),\n",
        "    tf.keras.layers.Dropout(0.2),\n",
        "    tf.keras.layers.LSTM(32, return_sequences=False, recurrent_dropout=0.2),\n",
        "    tf.keras.layers.Dropout(0.2),\n",
        "    tf.keras.layers.Dense(units=1)\n",
        "])"
      ],
      "execution_count": null,
      "outputs": [
        {
          "output_type": "stream",
          "text": [
            "WARNING:tensorflow:Layer lstm will not use cuDNN kernels since it doesn't meet the criteria. It will use a generic GPU kernel as fallback when running on GPU.\n",
            "WARNING:tensorflow:Layer lstm_1 will not use cuDNN kernels since it doesn't meet the criteria. It will use a generic GPU kernel as fallback when running on GPU.\n",
            "WARNING:tensorflow:Layer lstm_2 will not use cuDNN kernels since it doesn't meet the criteria. It will use a generic GPU kernel as fallback when running on GPU.\n",
            "WARNING:tensorflow:Layer lstm_3 will not use cuDNN kernels since it doesn't meet the criteria. It will use a generic GPU kernel as fallback when running on GPU.\n"
          ],
          "name": "stdout"
        }
      ]
    },
    {
      "cell_type": "markdown",
      "metadata": {
        "id": "bHrb2rC1pBcx"
      },
      "source": [
        "### Another Intermediate Model"
      ]
    },
    {
      "cell_type": "code",
      "metadata": {
        "id": "ty68IR86S4zZ",
        "colab": {
          "base_uri": "https://localhost:8080/"
        },
        "outputId": "ccf4df0c-a53d-42f9-c791-e7be560c85e3"
      },
      "source": [
        "# model 13\n",
        "# tried adding more units \n",
        "# also tried 512, 256, 128, 64\n",
        "# also tried for LSTM\n",
        "# did not see improvement \n",
        "lstm_model = tf.keras.models.Sequential([\n",
        "    tf.keras.layers.GRU(1024, return_sequences=True, recurrent_dropout=0.3),\n",
        "    tf.keras.layers.GRU(512, return_sequences=True, recurrent_dropout=0.3),\n",
        "    tf.keras.layers.GRU(256, return_sequences=True, recurrent_dropout=0.3),\n",
        "    tf.keras.layers.GRU(128, return_sequences=False, recurrent_dropout=0.3),\n",
        "    tf.keras.layers.Dense(units=1)\n",
        "])"
      ],
      "execution_count": null,
      "outputs": [
        {
          "output_type": "stream",
          "text": [
            "WARNING:tensorflow:Layer gru_36 will not use cuDNN kernels since it doesn't meet the criteria. It will use a generic GPU kernel as fallback when running on GPU.\n",
            "WARNING:tensorflow:Layer gru_37 will not use cuDNN kernels since it doesn't meet the criteria. It will use a generic GPU kernel as fallback when running on GPU.\n",
            "WARNING:tensorflow:Layer gru_38 will not use cuDNN kernels since it doesn't meet the criteria. It will use a generic GPU kernel as fallback when running on GPU.\n",
            "WARNING:tensorflow:Layer gru_39 will not use cuDNN kernels since it doesn't meet the criteria. It will use a generic GPU kernel as fallback when running on GPU.\n",
            "WARNING:tensorflow:Layer gru_40 will not use cuDNN kernels since it doesn't meet the criteria. It will use a generic GPU kernel as fallback when running on GPU.\n"
          ],
          "name": "stdout"
        }
      ]
    },
    {
      "cell_type": "markdown",
      "metadata": {
        "id": "8ZRBAH1S-esc"
      },
      "source": [
        "### Best Intermediate Models"
      ]
    },
    {
      "cell_type": "markdown",
      "metadata": {
        "id": "ybMcAsBE-kGx"
      },
      "source": [
        "Note: These were the same structure as best models but with added Conv1D layer."
      ]
    },
    {
      "cell_type": "code",
      "metadata": {
        "colab": {
          "base_uri": "https://localhost:8080/"
        },
        "id": "KWoKx8u3CYVH",
        "outputId": "76fa03f2-13ed-47a7-be85-9381db55e9b7"
      },
      "source": [
        "# model 14\n",
        "# combined Conv1D + Stacked LSTMs\n",
        "# did not see improvment over original\n",
        "\n",
        "lstm_model = tf.keras.models.Sequential([\n",
        "    tf.keras.layers.Conv1D(256, kernel_size=3, activation = 'relu', input_shape=(6,5)),\n",
        "    tf.keras.layers.Dropout(0.2),\n",
        "    tf.keras.layers.LSTM(256, activation='relu', return_sequences=True, recurrent_dropout=0.2),\n",
        "    tf.keras.layers.Dropout(0.2),\n",
        "    tf.keras.layers.LSTM(128, return_sequences=True, recurrent_dropout=0.2),\n",
        "    tf.keras.layers.Dropout(0.2),\n",
        "    tf.keras.layers.LSTM(64, return_sequences=True, recurrent_dropout=0.2),\n",
        "    tf.keras.layers.Dropout(0.2),\n",
        "    tf.keras.layers.LSTM(32, return_sequences=False, recurrent_dropout=0.2),\n",
        "    tf.keras.layers.Dropout(0.2),\n",
        "    tf.keras.layers.Dense(units=1)\n",
        "])"
      ],
      "execution_count": null,
      "outputs": [
        {
          "output_type": "stream",
          "text": [
            "WARNING:tensorflow:Layer lstm_181 will not use cuDNN kernels since it doesn't meet the criteria. It will use a generic GPU kernel as fallback when running on GPU.\n",
            "WARNING:tensorflow:Layer lstm_182 will not use cuDNN kernels since it doesn't meet the criteria. It will use a generic GPU kernel as fallback when running on GPU.\n",
            "WARNING:tensorflow:Layer lstm_183 will not use cuDNN kernels since it doesn't meet the criteria. It will use a generic GPU kernel as fallback when running on GPU.\n",
            "WARNING:tensorflow:Layer lstm_184 will not use cuDNN kernels since it doesn't meet the criteria. It will use a generic GPU kernel as fallback when running on GPU.\n"
          ],
          "name": "stdout"
        }
      ]
    },
    {
      "cell_type": "code",
      "metadata": {
        "colab": {
          "base_uri": "https://localhost:8080/"
        },
        "id": "rz046oBPegMC",
        "outputId": "ce677957-6f68-4fbe-af74-ae02afa2a7f7"
      },
      "source": [
        "# model 15\n",
        "# combined Conv1D + Stacked GRUs\n",
        "# did not see improvement over original \n",
        "\n",
        "lstm_model = tf.keras.models.Sequential([\n",
        "    tf.keras.layers.Conv1D(256, kernel_size=3, activation = 'relu', input_shape=(6,5)),\n",
        "    tf.keras.layers.GRU(256, activation='relu', return_sequences=True, recurrent_dropout=0.2),\n",
        "    tf.keras.layers.Dropout(0.2),\n",
        "    tf.keras.layers.GRU(128, return_sequences=True, recurrent_dropout=0.2),\n",
        "    tf.keras.layers.Dropout(0.2),\n",
        "    tf.keras.layers.GRU(64, return_sequences=True, recurrent_dropout=0.2),\n",
        "    tf.keras.layers.Dropout(0.2),\n",
        "    tf.keras.layers.GRU(32, return_sequences=False, recurrent_dropout=0.2),\n",
        "    tf.keras.layers.Dropout(0.2),\n",
        "    tf.keras.layers.Dense(units=1)\n",
        "])"
      ],
      "execution_count": null,
      "outputs": [
        {
          "output_type": "stream",
          "text": [
            "WARNING:tensorflow:Layer gru_4 will not use cuDNN kernels since it doesn't meet the criteria. It will use a generic GPU kernel as fallback when running on GPU.\n",
            "WARNING:tensorflow:Layer gru_5 will not use cuDNN kernels since it doesn't meet the criteria. It will use a generic GPU kernel as fallback when running on GPU.\n",
            "WARNING:tensorflow:Layer gru_6 will not use cuDNN kernels since it doesn't meet the criteria. It will use a generic GPU kernel as fallback when running on GPU.\n",
            "WARNING:tensorflow:Layer gru_7 will not use cuDNN kernels since it doesn't meet the criteria. It will use a generic GPU kernel as fallback when running on GPU.\n"
          ],
          "name": "stdout"
        }
      ]
    },
    {
      "cell_type": "markdown",
      "metadata": {
        "id": "Q39BY7PE-7eN"
      },
      "source": [
        "### Last Intermediate Model"
      ]
    },
    {
      "cell_type": "code",
      "metadata": {
        "colab": {
          "base_uri": "https://localhost:8080/"
        },
        "id": "Zi4MWnPyfCSM",
        "outputId": "1020ba92-fb97-488d-9250-100bc6de8bd4"
      },
      "source": [
        "# model 16\n",
        "# this was a model I tried based on a literature review\n",
        "# did not outperform earlier best models\n",
        "\n",
        "lstm_model = tf.keras.models.Sequential([\n",
        "        tf.keras.layers.LSTM(256, return_sequences=True, recurrent_dropout=0.2),\n",
        "        tf.keras.layers.Dropout(0.2),\n",
        "    tf.keras.layers.Bidirectional(\n",
        "        tf.keras.layers.LSTM(128, return_sequences=True, recurrent_dropout=0.2)),\n",
        "        tf.keras.layers.Dropout(0.2),\n",
        "        tf.keras.layers.LSTM(64, return_sequences=False, recurrent_dropout=0.2),\n",
        "        tf.keras.layers.Dropout(0.2),\n",
        "    tf.keras.layers.Dense(units=1)\n",
        "])"
      ],
      "execution_count": null,
      "outputs": [
        {
          "output_type": "stream",
          "text": [
            "WARNING:tensorflow:Layer lstm_34 will not use cuDNN kernels since it doesn't meet the criteria. It will use a generic GPU kernel as fallback when running on GPU.\n",
            "WARNING:tensorflow:Layer lstm_35 will not use cuDNN kernels since it doesn't meet the criteria. It will use a generic GPU kernel as fallback when running on GPU.\n",
            "WARNING:tensorflow:Layer lstm_35 will not use cuDNN kernels since it doesn't meet the criteria. It will use a generic GPU kernel as fallback when running on GPU.\n",
            "WARNING:tensorflow:Layer lstm_35 will not use cuDNN kernels since it doesn't meet the criteria. It will use a generic GPU kernel as fallback when running on GPU.\n",
            "WARNING:tensorflow:Layer lstm_36 will not use cuDNN kernels since it doesn't meet the criteria. It will use a generic GPU kernel as fallback when running on GPU.\n"
          ],
          "name": "stdout"
        }
      ]
    },
    {
      "cell_type": "markdown",
      "metadata": {
        "id": "9y6rWBH1vgxs"
      },
      "source": [
        "## Model Training"
      ]
    },
    {
      "cell_type": "code",
      "metadata": {
        "colab": {
          "base_uri": "https://localhost:8080/"
        },
        "id": "ZFeOo76pd6f4",
        "outputId": "788ed333-8350-40d4-c38f-ce92857944bb"
      },
      "source": [
        "print('Input shape:', six_step_window.example[0].shape)\n",
        "print('Output shape:', lstm_model(six_step_window.example[0]).shape)"
      ],
      "execution_count": null,
      "outputs": [
        {
          "output_type": "stream",
          "text": [
            "Input shape: (5000, 6, 5)\n",
            "Output shape: (5000, 1)\n"
          ],
          "name": "stdout"
        }
      ]
    },
    {
      "cell_type": "markdown",
      "metadata": {
        "id": "zV7pgYNXwitO"
      },
      "source": [
        "### This trace is representative of the best models"
      ]
    },
    {
      "cell_type": "markdown",
      "metadata": {
        "id": "THBEsqZgy35X"
      },
      "source": [
        "Note: it is slightly worse than the best runs indicated above."
      ]
    },
    {
      "cell_type": "markdown",
      "metadata": {
        "id": "tqo3G7qja3nW"
      },
      "source": [
        "![Screen Shot 2021-06-09 at 7.55.54 PM.png](data:image/png;base64,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)"
      ]
    },
    {
      "cell_type": "code",
      "metadata": {
        "id": "3EgNRd9_d8UR"
      },
      "source": [
        "# train and validate model up to specified # of epochs\n",
        "# history = compile_and_fit(lstm_model, six_step_window)"
      ],
      "execution_count": null,
      "outputs": []
    },
    {
      "cell_type": "markdown",
      "metadata": {
        "id": "IG9-zNgWcbcR"
      },
      "source": [
        "NOTE: I ran this block as comments to remove the trace - as it was 1000 epochs long.\n",
        "Since I now realize how these notebooks load when they're viewed after the fact (in many cases including all of the epochs shown unabridged), this is for efficiency in loading/viewing the notebook. I don't want there to be pages and pages of trace for you to have to scroll through. A screenshot of the results for the last 10 epochs is included above."
      ]
    },
    {
      "cell_type": "markdown",
      "metadata": {
        "id": "ZSOxcuMJamsR"
      },
      "source": [
        ""
      ]
    },
    {
      "cell_type": "markdown",
      "metadata": {
        "id": "dSr-jyOy364g"
      },
      "source": [
        "## Model Evaluation"
      ]
    },
    {
      "cell_type": "markdown",
      "metadata": {
        "id": "ufx3wnwpmtt7"
      },
      "source": [
        "#### Learning Curve - Best Model(s)"
      ]
    },
    {
      "cell_type": "code",
      "metadata": {
        "colab": {
          "base_uri": "https://localhost:8080/",
          "height": 573
        },
        "id": "cYkl96csfwRy",
        "outputId": "572eecb6-9819-442f-c347-796552ae116d"
      },
      "source": [
        "# summarize history for mae\n",
        "plt.plot(history.history['mean_absolute_error'])\n",
        "plt.plot(history.history['val_mean_absolute_error'])\n",
        "plt.title('mae')\n",
        "plt.ylabel('mae')\n",
        "plt.xlabel('epoch')\n",
        "plt.legend(['train', 'val'], loc='upper left')\n",
        "plt.show()\n",
        "# summarize history for loss\n",
        "plt.plot(history.history['loss'])\n",
        "plt.plot(history.history['val_loss'])\n",
        "plt.title('model loss')\n",
        "plt.ylabel('loss')\n",
        "plt.xlabel('epoch')\n",
        "plt.legend(['train', 'val'], loc='upper left')\n",
        "plt.show()"
      ],
      "execution_count": null,
      "outputs": [
        {
          "output_type": "display_data",
          "data": {
            "image/png": "[encoded data removed]",
            "text/plain": [
              "<Figure size 432x288 with 1 Axes>"
            ]
          },
          "metadata": {
            "tags": [],
            "needs_background": "light"
          }
        },
        {
          "output_type": "display_data",
          "data": {
            "image/png": "[encoded data removed]",
            "text/plain": [
              "<Figure size 432x288 with 1 Axes>"
            ]
          },
          "metadata": {
            "tags": [],
            "needs_background": "light"
          }
        }
      ]
    },
    {
      "cell_type": "markdown",
      "metadata": {
        "id": "Zoim0HcXfqBn"
      },
      "source": [
        "The above curves show, in general, the error progression of the best models. "
      ]
    },
    {
      "cell_type": "markdown",
      "metadata": {
        "id": "ZHNu5dpfoM9z"
      },
      "source": [
        "As I moved to larger batch sizes later in the model iterations, this naturally increased the number of epochs."
      ]
    },
    {
      "cell_type": "markdown",
      "metadata": {
        "id": "vjHBaQ_5vw3E"
      },
      "source": [
        "All of my best models hit a wall around 0.0730 val_loss and 0.178 val_mae. I tried everything I could think of to get past this barrier."
      ]
    },
    {
      "cell_type": "markdown",
      "metadata": {
        "id": "LvizRKVLmatC"
      },
      "source": [
        "#### Comparing Multiple Models"
      ]
    },
    {
      "cell_type": "code",
      "metadata": {
        "colab": {
          "base_uri": "https://localhost:8080/",
          "height": 366
        },
        "id": "1FbowfTHRexT",
        "outputId": "ee29032b-d964-422b-a619-676239f07fbc"
      },
      "source": [
        "fig = plt.figure()\n",
        "ax = fig.add_axes([0,0,1,1])\n",
        "ax.set_title('Model Loss Comparison')\n",
        "ax.set_xlabel('Model #')\n",
        "ax.set_ylabel('Val Loss')\n",
        "models = ['M0', 'M1', 'M3', 'M15', 'M14', 'M7', 'M12']\n",
        "val_loss = [0.12, 0.09, 0.082, 0.0730, 0.0728, 0.0715, 0.0705]\n",
        "ax.bar(models,val_loss)\n",
        "plt.show()"
      ],
      "execution_count": null,
      "outputs": [
        {
          "output_type": "display_data",
          "data": {
            "image/png": "[encoded data removed]",
            "text/plain": [
              "<Figure size 432x288 with 1 Axes>"
            ]
          },
          "metadata": {
            "tags": [],
            "needs_background": "light"
          }
        }
      ]
    },
    {
      "cell_type": "code",
      "metadata": {
        "colab": {
          "base_uri": "https://localhost:8080/",
          "height": 366
        },
        "id": "gw5GFRiMXl0F",
        "outputId": "1ce4c28b-bd7b-4791-b973-c78ea54ed66e"
      },
      "source": [
        "fig = plt.figure()\n",
        "ax = fig.add_axes([0,0,1,1])\n",
        "ax.set_title('Model MAE Comparison')\n",
        "ax.set_xlabel('Model #')\n",
        "ax.set_ylabel('Val MAE')\n",
        "models = ['M0', 'M1', 'M3', 'M15', 'M14', 'M7', 'M12']\n",
        "val_loss = [0.24, 0.21, 0.185, 0.178, 0.178, 0.175, 0.173]\n",
        "ax.bar(models,val_loss)\n",
        "plt.show()"
      ],
      "execution_count": null,
      "outputs": [
        {
          "output_type": "display_data",
          "data": {
            "image/png": "[encoded data removed]",
            "text/plain": [
              "<Figure size 432x288 with 1 Axes>"
            ]
          },
          "metadata": {
            "tags": [],
            "needs_background": "light"
          }
        }
      ]
    },
    {
      "cell_type": "markdown",
      "metadata": {
        "id": "Y9tTeh3ycYit"
      },
      "source": [
        "The above figures show a picture of model progression from the base model (M0) to the best models (M15, M14, M7, and M12). We saw about a 40% decrease in loss from the base model to the best model. And about a 28% decrease in MAE from the base model to the best model. While this is a relatively large decrease, the base model held up surprisingly well to the more complex models with added hyperparameter tuning. "
      ]
    },
    {
      "cell_type": "markdown",
      "metadata": {
        "id": "1tuqJaAD4BEn"
      },
      "source": [
        "## Prediction"
      ]
    },
    {
      "cell_type": "code",
      "metadata": {
        "id": "VsGonnojd_pp"
      },
      "source": [
        "pred = lstm_model.predict(six_step_window.test)"
      ],
      "execution_count": null,
      "outputs": []
    },
    {
      "cell_type": "code",
      "metadata": {
        "colab": {
          "base_uri": "https://localhost:8080/"
        },
        "id": "3v2dduI6gBjU",
        "outputId": "1adcd4ba-acc5-4128-84b6-bfeaa75bd282"
      },
      "source": [
        "pred.shape"
      ],
      "execution_count": null,
      "outputs": [
        {
          "output_type": "execute_result",
          "data": {
            "text/plain": [
              "(4993, 1)"
            ]
          },
          "metadata": {
            "tags": []
          },
          "execution_count": 71
        }
      ]
    },
    {
      "cell_type": "code",
      "metadata": {
        "id": "LuVjzNq2g_Tb"
      },
      "source": [
        "pred_df = pd.DataFrame(pred)"
      ],
      "execution_count": null,
      "outputs": []
    },
    {
      "cell_type": "code",
      "metadata": {
        "colab": {
          "base_uri": "https://localhost:8080/",
          "height": 204
        },
        "id": "Uu-3EaAoiA49",
        "outputId": "f717c083-327b-4ff2-88c3-be13341d573e"
      },
      "source": [
        "pred_df.head()"
      ],
      "execution_count": null,
      "outputs": [
        {
          "output_type": "execute_result",
          "data": {
            "text/html": [
              "<div>\n",
              "<style scoped>\n",
              "    .dataframe tbody tr th:only-of-type {\n",
              "        vertical-align: middle;\n",
              "    }\n",
              "\n",
              "    .dataframe tbody tr th {\n",
              "        vertical-align: top;\n",
              "    }\n",
              "\n",
              "    .dataframe thead th {\n",
              "        text-align: right;\n",
              "    }\n",
              "</style>\n",
              "<table border=\"1\" class=\"dataframe\">\n",
              "  <thead>\n",
              "    <tr style=\"text-align: right;\">\n",
              "      <th></th>\n",
              "      <th>0</th>\n",
              "    </tr>\n",
              "  </thead>\n",
              "  <tbody>\n",
              "    <tr>\n",
              "      <th>0</th>\n",
              "      <td>-0.902394</td>\n",
              "    </tr>\n",
              "    <tr>\n",
              "      <th>1</th>\n",
              "      <td>-0.887471</td>\n",
              "    </tr>\n",
              "    <tr>\n",
              "      <th>2</th>\n",
              "      <td>-1.175825</td>\n",
              "    </tr>\n",
              "    <tr>\n",
              "      <th>3</th>\n",
              "      <td>-1.254389</td>\n",
              "    </tr>\n",
              "    <tr>\n",
              "      <th>4</th>\n",
              "      <td>-1.254629</td>\n",
              "    </tr>\n",
              "  </tbody>\n",
              "</table>\n",
              "</div>"
            ],
            "text/plain": [
              "          0\n",
              "0 -0.902394\n",
              "1 -0.887471\n",
              "2 -1.175825\n",
              "3 -1.254389\n",
              "4 -1.254629"
            ]
          },
          "metadata": {
            "tags": []
          },
          "execution_count": 73
        }
      ]
    },
    {
      "cell_type": "markdown",
      "metadata": {
        "id": "enU7vwLc4Hdd"
      },
      "source": [
        "## De-Normalization"
      ]
    },
    {
      "cell_type": "code",
      "metadata": {
        "id": "JzSg_Cr1n_3Q"
      },
      "source": [
        "tv_std = train_std.traffic_volume\n",
        "tv_mean = train_mean.traffic_volume"
      ],
      "execution_count": null,
      "outputs": []
    },
    {
      "cell_type": "code",
      "metadata": {
        "id": "IrY-5iDglc8x"
      },
      "source": [
        "dn_preds = pred_df * tv_std + tv_mean"
      ],
      "execution_count": null,
      "outputs": []
    },
    {
      "cell_type": "code",
      "metadata": {
        "colab": {
          "base_uri": "https://localhost:8080/"
        },
        "id": "Y4f1K8bSn4Wx",
        "outputId": "ab3d8c3c-b639-4341-d04e-3453f7cfd83f"
      },
      "source": [
        "dn_preds.mean()"
      ],
      "execution_count": null,
      "outputs": [
        {
          "output_type": "execute_result",
          "data": {
            "text/plain": [
              "0    3336.486328\n",
              "dtype: float32"
            ]
          },
          "metadata": {
            "tags": []
          },
          "execution_count": 76
        }
      ]
    },
    {
      "cell_type": "markdown",
      "metadata": {
        "id": "yRaMcNMd4Uy9"
      },
      "source": [
        "## Exporting Predictions"
      ]
    },
    {
      "cell_type": "code",
      "metadata": {
        "colab": {
          "base_uri": "https://localhost:8080/",
          "height": 235
        },
        "id": "z5nEQ-F1ogqF",
        "outputId": "867ebc10-a635-4b1c-a681-3339f0e652aa"
      },
      "source": [
        "dn_preds.columns = ['prediction']\n",
        "dn_preds.index.name = 'id'\n",
        "dn_preds.index += 1\n",
        "dn_preds.head()"
      ],
      "execution_count": null,
      "outputs": [
        {
          "output_type": "execute_result",
          "data": {
            "text/html": [
              "<div>\n",
              "<style scoped>\n",
              "    .dataframe tbody tr th:only-of-type {\n",
              "        vertical-align: middle;\n",
              "    }\n",
              "\n",
              "    .dataframe tbody tr th {\n",
              "        vertical-align: top;\n",
              "    }\n",
              "\n",
              "    .dataframe thead th {\n",
              "        text-align: right;\n",
              "    }\n",
              "</style>\n",
              "<table border=\"1\" class=\"dataframe\">\n",
              "  <thead>\n",
              "    <tr style=\"text-align: right;\">\n",
              "      <th></th>\n",
              "      <th>prediction</th>\n",
              "    </tr>\n",
              "    <tr>\n",
              "      <th>id</th>\n",
              "      <th></th>\n",
              "    </tr>\n",
              "  </thead>\n",
              "  <tbody>\n",
              "    <tr>\n",
              "      <th>1</th>\n",
              "      <td>1460.430420</td>\n",
              "    </tr>\n",
              "    <tr>\n",
              "      <th>2</th>\n",
              "      <td>1490.160889</td>\n",
              "    </tr>\n",
              "    <tr>\n",
              "      <th>3</th>\n",
              "      <td>915.708008</td>\n",
              "    </tr>\n",
              "    <tr>\n",
              "      <th>4</th>\n",
              "      <td>759.194580</td>\n",
              "    </tr>\n",
              "    <tr>\n",
              "      <th>5</th>\n",
              "      <td>758.715088</td>\n",
              "    </tr>\n",
              "  </tbody>\n",
              "</table>\n",
              "</div>"
            ],
            "text/plain": [
              "     prediction\n",
              "id             \n",
              "1   1460.430420\n",
              "2   1490.160889\n",
              "3    915.708008\n",
              "4    759.194580\n",
              "5    758.715088"
            ]
          },
          "metadata": {
            "tags": []
          },
          "execution_count": 77
        }
      ]
    },
    {
      "cell_type": "code",
      "metadata": {
        "id": "bZ_XuMFwpQUR"
      },
      "source": [
        "dn_preds.to_csv('preds_f20.csv', sep = ',')\n",
        "!cp preds_f20.csv \"drive/My Drive/\""
      ],
      "execution_count": null,
      "outputs": []
    },
    {
      "cell_type": "markdown",
      "metadata": {
        "id": "nzljhyUne0cJ"
      },
      "source": [
        "In total, I saved 21 different prediction files. 18 of these were submitted to Kaggle."
      ]
    },
    {
      "cell_type": "code",
      "metadata": {
        "id": "A_kJpKAEe6QG"
      },
      "source": [
        ""
      ],
      "execution_count": null,
      "outputs": []
    }
  ]
}